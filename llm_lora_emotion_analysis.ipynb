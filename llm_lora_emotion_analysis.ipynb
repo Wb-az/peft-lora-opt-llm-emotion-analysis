{
  "cells": [
    {
      "cell_type": "markdown",
      "id": "a29f5fc7-a6f2-4247-a703-c2bbc3374983",
      "metadata": {
        "editable": true,
        "id": "a29f5fc7-a6f2-4247-a703-c2bbc3374983",
        "tags": []
      },
      "source": [
        "\n",
        "<h1 align=\"center\"><font size=\"5\"> Emotion Analysis with LLMs </font></h1>\n",
        "\n",
        "<h2><center>Facebook-OPT, RoBERTa & ModernBERT</center></h2>\n",
        "\n",
        "<h3><center> PEFT fine-tuning with LoRA </center></h3>"
      ]
    },
    {
      "cell_type": "code",
      "execution_count": null,
      "id": "TrtuuTJ8cCXh",
      "metadata": {
        "id": "TrtuuTJ8cCXh"
      },
      "outputs": [],
      "source": [
        "!pip install --upgrade -q torch torchao transformers\n",
        "!pip install -q flash-attn\n",
        "!pip install -q evaluate\n",
        "!pip install -q plotly\n",
        "!pip install -q imbalanced-learn\n",
        "!pip install -q --upgrade peft\n",
        "!pip install -q scikit-posthocs"
      ]
    },
    {
      "cell_type": "code",
      "execution_count": null,
      "id": "AZozKVLIfZ6X",
      "metadata": {
        "colab": {
          "base_uri": "https://localhost:8080/"
        },
        "id": "AZozKVLIfZ6X",
        "outputId": "7edfa553-60df-4ae3-ee3a-234bf4a874ed"
      },
      "outputs": [
        {
          "name": "stdout",
          "output_type": "stream",
          "text": [
            "Mounted at /gdrive\n",
            "/gdrive/MyDrive/NLP-llm-fine-tuning\n"
          ]
        }
      ],
      "source": [
        "from google.colab import drive\n",
        "drive.mount('/gdrive')\n",
        "%cd /gdrive/MyDrive/NLP-llm-fine-tuning"
      ]
    },
    {
      "cell_type": "code",
      "execution_count": null,
      "id": "sT0-_bCW-BZ_",
      "metadata": {
        "id": "sT0-_bCW-BZ_"
      },
      "outputs": [],
      "source": [
        "# Connect to Hugging Face\n",
        "from google.colab import userdata\n",
        "HF_access = userdata.get('HF-LLM')"
      ]
    },
    {
      "cell_type": "markdown",
      "id": "c94ed15e-c9ec-4f5c-b120-1848206ef0b5",
      "metadata": {
        "id": "c94ed15e-c9ec-4f5c-b120-1848206ef0b5"
      },
      "source": [
        "## 1. Setup"
      ]
    },
    {
      "cell_type": "code",
      "execution_count": null,
      "id": "initial_id",
      "metadata": {
        "id": "initial_id"
      },
      "outputs": [],
      "source": [
        "import pandas as pd\n",
        "import numpy as np\n",
        "from scipy import stats\n",
        "from collections import Counter\n",
        "from sklearn.model_selection import train_test_split\n",
        "\n",
        "import torch\n",
        "from torch.utils.data import DataLoader\n",
        "from transformers import (Trainer, TrainingArguments)\n",
        "from peft import get_peft_model\n",
        "from utilities.utils import (build_tokenizer, lora_peft, seq_class_init, collate_func,\n",
        "                            compute_classification_metrics,get_lora_model_for_seq_class,\n",
        "                            predict, model_postprocessing, macnemar_comparison)\n",
        "\n",
        "from utilities.emotions_dataset import EmotionsDataset\n",
        "\n",
        "import gc\n",
        "\n",
        "seed = 42\n",
        "torch.manual_seed(seed)\n",
        "np.random.seed(seed)"
      ]
    },
    {
      "cell_type": "code",
      "execution_count": null,
      "id": "0a66983b-87c9-453b-942f-0be53c14f31d",
      "metadata": {
        "id": "0a66983b-87c9-453b-942f-0be53c14f31d"
      },
      "outputs": [],
      "source": [
        "# Map device to the available device\n",
        "device = torch.device('cuda') if torch.cuda.is_available() else torch.device(\"cpu\")"
      ]
    },
    {
      "cell_type": "markdown",
      "id": "55d8903a-489a-469a-9d2f-f0b77aa7c178",
      "metadata": {
        "id": "55d8903a-489a-469a-9d2f-f0b77aa7c178"
      },
      "source": [
        "## 2. Emotions Dataset"
      ]
    },
    {
      "cell_type": "markdown",
      "id": "719b61af-3007-4898-8820-96ad058b6c71",
      "metadata": {
        "id": "719b61af-3007-4898-8820-96ad058b6c71"
      },
      "source": [
        "\n",
        "<h3 id=\"reviewing_data\"> 2.1 About the dataset</h3>\n",
        "\n",
        "**`text.csv.zip`:**\n",
        "The dataset comprises emotional content (tweets), tweet and a single label per text. It has in total 40,000 tweets of emotional content. The emotions are classified into six categories: sadness (0), joy (1), love (2), anger (3), fear (4), and surprise (5).\n",
        "The dataset can be sourced from:\n",
        "https://www.kaggle.com/datasets/nelgiriyewithana/emotions/data"
      ]
    },
    {
      "cell_type": "markdown",
      "id": "6e627ea7-3b3d-402c-b126-9aa4757c8f41",
      "metadata": {
        "id": "6e627ea7-3b3d-402c-b126-9aa4757c8f41"
      },
      "source": [
        "<h3> 2.2 Read dataset </h3>\n"
      ]
    },
    {
      "cell_type": "code",
      "execution_count": null,
      "id": "da39f64a-5e50-41bc-b417-1e35cba86219",
      "metadata": {
        "colab": {
          "base_uri": "https://localhost:8080/",
          "height": 206
        },
        "id": "da39f64a-5e50-41bc-b417-1e35cba86219",
        "outputId": "a5aff737-13a1-4193-d2c5-8523beb81588"
      },
      "outputs": [
        {
          "data": {
            "application/vnd.google.colaboratory.intrinsic+json": {
              "type": "dataframe",
              "variable_name": "df"
            },
            "text/html": [
              "\n",
              "  <div id=\"df-d50ca607-07b6-4924-afbb-d857278e35c8\" class=\"colab-df-container\">\n",
              "    <div>\n",
              "<style scoped>\n",
              "    .dataframe tbody tr th:only-of-type {\n",
              "        vertical-align: middle;\n",
              "    }\n",
              "\n",
              "    .dataframe tbody tr th {\n",
              "        vertical-align: top;\n",
              "    }\n",
              "\n",
              "    .dataframe thead th {\n",
              "        text-align: right;\n",
              "    }\n",
              "</style>\n",
              "<table border=\"1\" class=\"dataframe\">\n",
              "  <thead>\n",
              "    <tr style=\"text-align: right;\">\n",
              "      <th></th>\n",
              "      <th>text</th>\n",
              "      <th>label</th>\n",
              "    </tr>\n",
              "  </thead>\n",
              "  <tbody>\n",
              "    <tr>\n",
              "      <th>0</th>\n",
              "      <td>i just feel really helpless and heavy hearted</td>\n",
              "      <td>4</td>\n",
              "    </tr>\n",
              "    <tr>\n",
              "      <th>1</th>\n",
              "      <td>ive enjoyed being able to slouch about relax a...</td>\n",
              "      <td>0</td>\n",
              "    </tr>\n",
              "    <tr>\n",
              "      <th>2</th>\n",
              "      <td>i gave up my internship with the dmrg and am f...</td>\n",
              "      <td>4</td>\n",
              "    </tr>\n",
              "    <tr>\n",
              "      <th>3</th>\n",
              "      <td>i dont know i feel so lost</td>\n",
              "      <td>0</td>\n",
              "    </tr>\n",
              "    <tr>\n",
              "      <th>4</th>\n",
              "      <td>i am a kindergarten teacher and i am thoroughl...</td>\n",
              "      <td>4</td>\n",
              "    </tr>\n",
              "  </tbody>\n",
              "</table>\n",
              "</div>\n",
              "    <div class=\"colab-df-buttons\">\n",
              "\n",
              "  <div class=\"colab-df-container\">\n",
              "    <button class=\"colab-df-convert\" onclick=\"convertToInteractive('df-d50ca607-07b6-4924-afbb-d857278e35c8')\"\n",
              "            title=\"Convert this dataframe to an interactive table.\"\n",
              "            style=\"display:none;\">\n",
              "\n",
              "  <svg xmlns=\"http://www.w3.org/2000/svg\" height=\"24px\" viewBox=\"0 -960 960 960\">\n",
              "    <path d=\"M120-120v-720h720v720H120Zm60-500h600v-160H180v160Zm220 220h160v-160H400v160Zm0 220h160v-160H400v160ZM180-400h160v-160H180v160Zm440 0h160v-160H620v160ZM180-180h160v-160H180v160Zm440 0h160v-160H620v160Z\"/>\n",
              "  </svg>\n",
              "    </button>\n",
              "\n",
              "  <style>\n",
              "    .colab-df-container {\n",
              "      display:flex;\n",
              "      gap: 12px;\n",
              "    }\n",
              "\n",
              "    .colab-df-convert {\n",
              "      background-color: #E8F0FE;\n",
              "      border: none;\n",
              "      border-radius: 50%;\n",
              "      cursor: pointer;\n",
              "      display: none;\n",
              "      fill: #1967D2;\n",
              "      height: 32px;\n",
              "      padding: 0 0 0 0;\n",
              "      width: 32px;\n",
              "    }\n",
              "\n",
              "    .colab-df-convert:hover {\n",
              "      background-color: #E2EBFA;\n",
              "      box-shadow: 0px 1px 2px rgba(60, 64, 67, 0.3), 0px 1px 3px 1px rgba(60, 64, 67, 0.15);\n",
              "      fill: #174EA6;\n",
              "    }\n",
              "\n",
              "    .colab-df-buttons div {\n",
              "      margin-bottom: 4px;\n",
              "    }\n",
              "\n",
              "    [theme=dark] .colab-df-convert {\n",
              "      background-color: #3B4455;\n",
              "      fill: #D2E3FC;\n",
              "    }\n",
              "\n",
              "    [theme=dark] .colab-df-convert:hover {\n",
              "      background-color: #434B5C;\n",
              "      box-shadow: 0px 1px 3px 1px rgba(0, 0, 0, 0.15);\n",
              "      filter: drop-shadow(0px 1px 2px rgba(0, 0, 0, 0.3));\n",
              "      fill: #FFFFFF;\n",
              "    }\n",
              "  </style>\n",
              "\n",
              "    <script>\n",
              "      const buttonEl =\n",
              "        document.querySelector('#df-d50ca607-07b6-4924-afbb-d857278e35c8 button.colab-df-convert');\n",
              "      buttonEl.style.display =\n",
              "        google.colab.kernel.accessAllowed ? 'block' : 'none';\n",
              "\n",
              "      async function convertToInteractive(key) {\n",
              "        const element = document.querySelector('#df-d50ca607-07b6-4924-afbb-d857278e35c8');\n",
              "        const dataTable =\n",
              "          await google.colab.kernel.invokeFunction('convertToInteractive',\n",
              "                                                    [key], {});\n",
              "        if (!dataTable) return;\n",
              "\n",
              "        const docLinkHtml = 'Like what you see? Visit the ' +\n",
              "          '<a target=\"_blank\" href=https://colab.research.google.com/notebooks/data_table.ipynb>data table notebook</a>'\n",
              "          + ' to learn more about interactive tables.';\n",
              "        element.innerHTML = '';\n",
              "        dataTable['output_type'] = 'display_data';\n",
              "        await google.colab.output.renderOutput(dataTable, element);\n",
              "        const docLink = document.createElement('div');\n",
              "        docLink.innerHTML = docLinkHtml;\n",
              "        element.appendChild(docLink);\n",
              "      }\n",
              "    </script>\n",
              "  </div>\n",
              "\n",
              "\n",
              "<div id=\"df-82fd7970-a8f0-4668-bec1-1781ad49c049\">\n",
              "  <button class=\"colab-df-quickchart\" onclick=\"quickchart('df-82fd7970-a8f0-4668-bec1-1781ad49c049')\"\n",
              "            title=\"Suggest charts\"\n",
              "            style=\"display:none;\">\n",
              "\n",
              "<svg xmlns=\"http://www.w3.org/2000/svg\" height=\"24px\"viewBox=\"0 0 24 24\"\n",
              "     width=\"24px\">\n",
              "    <g>\n",
              "        <path d=\"M19 3H5c-1.1 0-2 .9-2 2v14c0 1.1.9 2 2 2h14c1.1 0 2-.9 2-2V5c0-1.1-.9-2-2-2zM9 17H7v-7h2v7zm4 0h-2V7h2v10zm4 0h-2v-4h2v4z\"/>\n",
              "    </g>\n",
              "</svg>\n",
              "  </button>\n",
              "\n",
              "<style>\n",
              "  .colab-df-quickchart {\n",
              "      --bg-color: #E8F0FE;\n",
              "      --fill-color: #1967D2;\n",
              "      --hover-bg-color: #E2EBFA;\n",
              "      --hover-fill-color: #174EA6;\n",
              "      --disabled-fill-color: #AAA;\n",
              "      --disabled-bg-color: #DDD;\n",
              "  }\n",
              "\n",
              "  [theme=dark] .colab-df-quickchart {\n",
              "      --bg-color: #3B4455;\n",
              "      --fill-color: #D2E3FC;\n",
              "      --hover-bg-color: #434B5C;\n",
              "      --hover-fill-color: #FFFFFF;\n",
              "      --disabled-bg-color: #3B4455;\n",
              "      --disabled-fill-color: #666;\n",
              "  }\n",
              "\n",
              "  .colab-df-quickchart {\n",
              "    background-color: var(--bg-color);\n",
              "    border: none;\n",
              "    border-radius: 50%;\n",
              "    cursor: pointer;\n",
              "    display: none;\n",
              "    fill: var(--fill-color);\n",
              "    height: 32px;\n",
              "    padding: 0;\n",
              "    width: 32px;\n",
              "  }\n",
              "\n",
              "  .colab-df-quickchart:hover {\n",
              "    background-color: var(--hover-bg-color);\n",
              "    box-shadow: 0 1px 2px rgba(60, 64, 67, 0.3), 0 1px 3px 1px rgba(60, 64, 67, 0.15);\n",
              "    fill: var(--button-hover-fill-color);\n",
              "  }\n",
              "\n",
              "  .colab-df-quickchart-complete:disabled,\n",
              "  .colab-df-quickchart-complete:disabled:hover {\n",
              "    background-color: var(--disabled-bg-color);\n",
              "    fill: var(--disabled-fill-color);\n",
              "    box-shadow: none;\n",
              "  }\n",
              "\n",
              "  .colab-df-spinner {\n",
              "    border: 2px solid var(--fill-color);\n",
              "    border-color: transparent;\n",
              "    border-bottom-color: var(--fill-color);\n",
              "    animation:\n",
              "      spin 1s steps(1) infinite;\n",
              "  }\n",
              "\n",
              "  @keyframes spin {\n",
              "    0% {\n",
              "      border-color: transparent;\n",
              "      border-bottom-color: var(--fill-color);\n",
              "      border-left-color: var(--fill-color);\n",
              "    }\n",
              "    20% {\n",
              "      border-color: transparent;\n",
              "      border-left-color: var(--fill-color);\n",
              "      border-top-color: var(--fill-color);\n",
              "    }\n",
              "    30% {\n",
              "      border-color: transparent;\n",
              "      border-left-color: var(--fill-color);\n",
              "      border-top-color: var(--fill-color);\n",
              "      border-right-color: var(--fill-color);\n",
              "    }\n",
              "    40% {\n",
              "      border-color: transparent;\n",
              "      border-right-color: var(--fill-color);\n",
              "      border-top-color: var(--fill-color);\n",
              "    }\n",
              "    60% {\n",
              "      border-color: transparent;\n",
              "      border-right-color: var(--fill-color);\n",
              "    }\n",
              "    80% {\n",
              "      border-color: transparent;\n",
              "      border-right-color: var(--fill-color);\n",
              "      border-bottom-color: var(--fill-color);\n",
              "    }\n",
              "    90% {\n",
              "      border-color: transparent;\n",
              "      border-bottom-color: var(--fill-color);\n",
              "    }\n",
              "  }\n",
              "</style>\n",
              "\n",
              "  <script>\n",
              "    async function quickchart(key) {\n",
              "      const quickchartButtonEl =\n",
              "        document.querySelector('#' + key + ' button');\n",
              "      quickchartButtonEl.disabled = true;  // To prevent multiple clicks.\n",
              "      quickchartButtonEl.classList.add('colab-df-spinner');\n",
              "      try {\n",
              "        const charts = await google.colab.kernel.invokeFunction(\n",
              "            'suggestCharts', [key], {});\n",
              "      } catch (error) {\n",
              "        console.error('Error during call to suggestCharts:', error);\n",
              "      }\n",
              "      quickchartButtonEl.classList.remove('colab-df-spinner');\n",
              "      quickchartButtonEl.classList.add('colab-df-quickchart-complete');\n",
              "    }\n",
              "    (() => {\n",
              "      let quickchartButtonEl =\n",
              "        document.querySelector('#df-82fd7970-a8f0-4668-bec1-1781ad49c049 button');\n",
              "      quickchartButtonEl.style.display =\n",
              "        google.colab.kernel.accessAllowed ? 'block' : 'none';\n",
              "    })();\n",
              "  </script>\n",
              "</div>\n",
              "\n",
              "    </div>\n",
              "  </div>\n"
            ],
            "text/plain": [
              "                                                text  label\n",
              "0      i just feel really helpless and heavy hearted      4\n",
              "1  ive enjoyed being able to slouch about relax a...      0\n",
              "2  i gave up my internship with the dmrg and am f...      4\n",
              "3                         i dont know i feel so lost      0\n",
              "4  i am a kindergarten teacher and i am thoroughl...      4"
            ]
          },
          "execution_count": 6,
          "metadata": {},
          "output_type": "execute_result"
        }
      ],
      "source": [
        "df = pd.read_csv('text.csv.zip', index_col=[0])\n",
        "df.head()"
      ]
    },
    {
      "cell_type": "code",
      "execution_count": null,
      "id": "zxmKyJQaq2md",
      "metadata": {
        "id": "zxmKyJQaq2md"
      },
      "outputs": [],
      "source": [
        "# Map label to emotion\n",
        "label_to_emotion = {0: 'sadness', 1: 'joy', 2:'love', 3:'anger', 4:'fear', 5:'surprise'}"
      ]
    },
    {
      "cell_type": "markdown",
      "id": "J8oc7IBXq1y3",
      "metadata": {
        "id": "J8oc7IBXq1y3"
      },
      "source": []
    },
    {
      "cell_type": "code",
      "execution_count": null,
      "id": "02da7cc4-e562-4869-bfac-4a3dee8f9107",
      "metadata": {
        "id": "02da7cc4-e562-4869-bfac-4a3dee8f9107"
      },
      "outputs": [],
      "source": [
        "df['emotions'] = df['label'].map(label_to_emotion)"
      ]
    },
    {
      "cell_type": "code",
      "execution_count": null,
      "id": "bb16e1f4-5507-42a1-aa22-920e30b8c479",
      "metadata": {
        "colab": {
          "base_uri": "https://localhost:8080/"
        },
        "id": "bb16e1f4-5507-42a1-aa22-920e30b8c479",
        "outputId": "28204aad-723c-4499-dc94-9f25b2ffa440"
      },
      "outputs": [
        {
          "name": "stdout",
          "output_type": "stream",
          "text": [
            "{'sadness': 0, 'joy': 1, 'love': 2, 'anger': 3, 'fear': 4, 'surprise': 5}\n"
          ]
        }
      ],
      "source": [
        "emotion_to_label = {v: k for k, v in label_to_emotion.items()}\n",
        "print(emotion_to_label)"
      ]
    },
    {
      "cell_type": "code",
      "execution_count": null,
      "id": "bb49f711-8076-4b1a-91e2-2fd9d2b3d723",
      "metadata": {
        "id": "bb49f711-8076-4b1a-91e2-2fd9d2b3d723"
      },
      "outputs": [],
      "source": [
        "df_emotions = df[['text', 'label']]"
      ]
    },
    {
      "cell_type": "code",
      "execution_count": null,
      "id": "6f69f3d0-9022-417b-8ba9-ceb6e47b33f0",
      "metadata": {
        "colab": {
          "base_uri": "https://localhost:8080/",
          "height": 417
        },
        "id": "6f69f3d0-9022-417b-8ba9-ceb6e47b33f0",
        "outputId": "bffd4c03-37e4-4c69-fd12-796d99f62fec"
      },
      "outputs": [
        {
          "data": {
            "text/html": [
              "<html>\n",
              "<head><meta charset=\"utf-8\" /></head>\n",
              "<body>\n",
              "    <div>            <script src=\"https://cdnjs.cloudflare.com/ajax/libs/mathjax/2.7.5/MathJax.js?config=TeX-AMS-MML_SVG\"></script><script type=\"text/javascript\">if (window.MathJax && window.MathJax.Hub && window.MathJax.Hub.Config) {window.MathJax.Hub.Config({SVG: {font: \"STIX-Web\"}});}</script>                <script type=\"text/javascript\">window.PlotlyConfig = {MathJaxConfig: 'local'};</script>\n",
              "        <script charset=\"utf-8\" src=\"https://cdn.plot.ly/plotly-2.35.2.min.js\"></script>                <div id=\"26bd3a70-ed51-45a3-aa47-ee60e8673c24\" class=\"plotly-graph-div\" style=\"height:400px; width:500px;\"></div>            <script type=\"text/javascript\">                                    window.PLOTLYENV=window.PLOTLYENV || {};                                    if (document.getElementById(\"26bd3a70-ed51-45a3-aa47-ee60e8673c24\")) {                    Plotly.newPlot(                        \"26bd3a70-ed51-45a3-aa47-ee60e8673c24\",                        [{\"alignmentgroup\":\"True\",\"hovertemplate\":\"emotions=%{x}\\u003cbr\\u003eFrequency=%{y}\\u003cextra\\u003e\\u003c\\u002fextra\\u003e\",\"legendgroup\":\"\",\"marker\":{\"color\":\"#088F8F\",\"pattern\":{\"shape\":\"\"}},\"name\":\"\",\"offsetgroup\":\"\",\"orientation\":\"v\",\"showlegend\":false,\"textposition\":\"auto\",\"x\":[\"joy\",\"sadness\",\"anger\",\"fear\",\"love\",\"surprise\"],\"xaxis\":\"x\",\"y\":[141067,121187,57317,47712,34554,14972],\"yaxis\":\"y\",\"type\":\"bar\"}],                        {\"template\":{\"data\":{\"barpolar\":[{\"marker\":{\"line\":{\"color\":\"white\",\"width\":0.5},\"pattern\":{\"fillmode\":\"overlay\",\"size\":10,\"solidity\":0.2}},\"type\":\"barpolar\"}],\"bar\":[{\"error_x\":{\"color\":\"rgb(36,36,36)\"},\"error_y\":{\"color\":\"rgb(36,36,36)\"},\"marker\":{\"line\":{\"color\":\"white\",\"width\":0.5},\"pattern\":{\"fillmode\":\"overlay\",\"size\":10,\"solidity\":0.2}},\"type\":\"bar\"}],\"carpet\":[{\"aaxis\":{\"endlinecolor\":\"rgb(36,36,36)\",\"gridcolor\":\"white\",\"linecolor\":\"white\",\"minorgridcolor\":\"white\",\"startlinecolor\":\"rgb(36,36,36)\"},\"baxis\":{\"endlinecolor\":\"rgb(36,36,36)\",\"gridcolor\":\"white\",\"linecolor\":\"white\",\"minorgridcolor\":\"white\",\"startlinecolor\":\"rgb(36,36,36)\"},\"type\":\"carpet\"}],\"choropleth\":[{\"colorbar\":{\"outlinewidth\":1,\"tickcolor\":\"rgb(36,36,36)\",\"ticks\":\"outside\"},\"type\":\"choropleth\"}],\"contourcarpet\":[{\"colorbar\":{\"outlinewidth\":1,\"tickcolor\":\"rgb(36,36,36)\",\"ticks\":\"outside\"},\"type\":\"contourcarpet\"}],\"contour\":[{\"colorbar\":{\"outlinewidth\":1,\"tickcolor\":\"rgb(36,36,36)\",\"ticks\":\"outside\"},\"colorscale\":[[0.0,\"#440154\"],[0.1111111111111111,\"#482878\"],[0.2222222222222222,\"#3e4989\"],[0.3333333333333333,\"#31688e\"],[0.4444444444444444,\"#26828e\"],[0.5555555555555556,\"#1f9e89\"],[0.6666666666666666,\"#35b779\"],[0.7777777777777778,\"#6ece58\"],[0.8888888888888888,\"#b5de2b\"],[1.0,\"#fde725\"]],\"type\":\"contour\"}],\"heatmapgl\":[{\"colorbar\":{\"outlinewidth\":1,\"tickcolor\":\"rgb(36,36,36)\",\"ticks\":\"outside\"},\"colorscale\":[[0.0,\"#440154\"],[0.1111111111111111,\"#482878\"],[0.2222222222222222,\"#3e4989\"],[0.3333333333333333,\"#31688e\"],[0.4444444444444444,\"#26828e\"],[0.5555555555555556,\"#1f9e89\"],[0.6666666666666666,\"#35b779\"],[0.7777777777777778,\"#6ece58\"],[0.8888888888888888,\"#b5de2b\"],[1.0,\"#fde725\"]],\"type\":\"heatmapgl\"}],\"heatmap\":[{\"colorbar\":{\"outlinewidth\":1,\"tickcolor\":\"rgb(36,36,36)\",\"ticks\":\"outside\"},\"colorscale\":[[0.0,\"#440154\"],[0.1111111111111111,\"#482878\"],[0.2222222222222222,\"#3e4989\"],[0.3333333333333333,\"#31688e\"],[0.4444444444444444,\"#26828e\"],[0.5555555555555556,\"#1f9e89\"],[0.6666666666666666,\"#35b779\"],[0.7777777777777778,\"#6ece58\"],[0.8888888888888888,\"#b5de2b\"],[1.0,\"#fde725\"]],\"type\":\"heatmap\"}],\"histogram2dcontour\":[{\"colorbar\":{\"outlinewidth\":1,\"tickcolor\":\"rgb(36,36,36)\",\"ticks\":\"outside\"},\"colorscale\":[[0.0,\"#440154\"],[0.1111111111111111,\"#482878\"],[0.2222222222222222,\"#3e4989\"],[0.3333333333333333,\"#31688e\"],[0.4444444444444444,\"#26828e\"],[0.5555555555555556,\"#1f9e89\"],[0.6666666666666666,\"#35b779\"],[0.7777777777777778,\"#6ece58\"],[0.8888888888888888,\"#b5de2b\"],[1.0,\"#fde725\"]],\"type\":\"histogram2dcontour\"}],\"histogram2d\":[{\"colorbar\":{\"outlinewidth\":1,\"tickcolor\":\"rgb(36,36,36)\",\"ticks\":\"outside\"},\"colorscale\":[[0.0,\"#440154\"],[0.1111111111111111,\"#482878\"],[0.2222222222222222,\"#3e4989\"],[0.3333333333333333,\"#31688e\"],[0.4444444444444444,\"#26828e\"],[0.5555555555555556,\"#1f9e89\"],[0.6666666666666666,\"#35b779\"],[0.7777777777777778,\"#6ece58\"],[0.8888888888888888,\"#b5de2b\"],[1.0,\"#fde725\"]],\"type\":\"histogram2d\"}],\"histogram\":[{\"marker\":{\"line\":{\"color\":\"white\",\"width\":0.6}},\"type\":\"histogram\"}],\"mesh3d\":[{\"colorbar\":{\"outlinewidth\":1,\"tickcolor\":\"rgb(36,36,36)\",\"ticks\":\"outside\"},\"type\":\"mesh3d\"}],\"parcoords\":[{\"line\":{\"colorbar\":{\"outlinewidth\":1,\"tickcolor\":\"rgb(36,36,36)\",\"ticks\":\"outside\"}},\"type\":\"parcoords\"}],\"pie\":[{\"automargin\":true,\"type\":\"pie\"}],\"scatter3d\":[{\"line\":{\"colorbar\":{\"outlinewidth\":1,\"tickcolor\":\"rgb(36,36,36)\",\"ticks\":\"outside\"}},\"marker\":{\"colorbar\":{\"outlinewidth\":1,\"tickcolor\":\"rgb(36,36,36)\",\"ticks\":\"outside\"}},\"type\":\"scatter3d\"}],\"scattercarpet\":[{\"marker\":{\"colorbar\":{\"outlinewidth\":1,\"tickcolor\":\"rgb(36,36,36)\",\"ticks\":\"outside\"}},\"type\":\"scattercarpet\"}],\"scattergeo\":[{\"marker\":{\"colorbar\":{\"outlinewidth\":1,\"tickcolor\":\"rgb(36,36,36)\",\"ticks\":\"outside\"}},\"type\":\"scattergeo\"}],\"scattergl\":[{\"marker\":{\"colorbar\":{\"outlinewidth\":1,\"tickcolor\":\"rgb(36,36,36)\",\"ticks\":\"outside\"}},\"type\":\"scattergl\"}],\"scattermapbox\":[{\"marker\":{\"colorbar\":{\"outlinewidth\":1,\"tickcolor\":\"rgb(36,36,36)\",\"ticks\":\"outside\"}},\"type\":\"scattermapbox\"}],\"scatterpolargl\":[{\"marker\":{\"colorbar\":{\"outlinewidth\":1,\"tickcolor\":\"rgb(36,36,36)\",\"ticks\":\"outside\"}},\"type\":\"scatterpolargl\"}],\"scatterpolar\":[{\"marker\":{\"colorbar\":{\"outlinewidth\":1,\"tickcolor\":\"rgb(36,36,36)\",\"ticks\":\"outside\"}},\"type\":\"scatterpolar\"}],\"scatter\":[{\"fillpattern\":{\"fillmode\":\"overlay\",\"size\":10,\"solidity\":0.2},\"type\":\"scatter\"}],\"scatterternary\":[{\"marker\":{\"colorbar\":{\"outlinewidth\":1,\"tickcolor\":\"rgb(36,36,36)\",\"ticks\":\"outside\"}},\"type\":\"scatterternary\"}],\"surface\":[{\"colorbar\":{\"outlinewidth\":1,\"tickcolor\":\"rgb(36,36,36)\",\"ticks\":\"outside\"},\"colorscale\":[[0.0,\"#440154\"],[0.1111111111111111,\"#482878\"],[0.2222222222222222,\"#3e4989\"],[0.3333333333333333,\"#31688e\"],[0.4444444444444444,\"#26828e\"],[0.5555555555555556,\"#1f9e89\"],[0.6666666666666666,\"#35b779\"],[0.7777777777777778,\"#6ece58\"],[0.8888888888888888,\"#b5de2b\"],[1.0,\"#fde725\"]],\"type\":\"surface\"}],\"table\":[{\"cells\":{\"fill\":{\"color\":\"rgb(237,237,237)\"},\"line\":{\"color\":\"white\"}},\"header\":{\"fill\":{\"color\":\"rgb(217,217,217)\"},\"line\":{\"color\":\"white\"}},\"type\":\"table\"}]},\"layout\":{\"annotationdefaults\":{\"arrowhead\":0,\"arrowwidth\":1},\"autotypenumbers\":\"strict\",\"coloraxis\":{\"colorbar\":{\"outlinewidth\":1,\"tickcolor\":\"rgb(36,36,36)\",\"ticks\":\"outside\"}},\"colorscale\":{\"diverging\":[[0.0,\"rgb(103,0,31)\"],[0.1,\"rgb(178,24,43)\"],[0.2,\"rgb(214,96,77)\"],[0.3,\"rgb(244,165,130)\"],[0.4,\"rgb(253,219,199)\"],[0.5,\"rgb(247,247,247)\"],[0.6,\"rgb(209,229,240)\"],[0.7,\"rgb(146,197,222)\"],[0.8,\"rgb(67,147,195)\"],[0.9,\"rgb(33,102,172)\"],[1.0,\"rgb(5,48,97)\"]],\"sequential\":[[0.0,\"#440154\"],[0.1111111111111111,\"#482878\"],[0.2222222222222222,\"#3e4989\"],[0.3333333333333333,\"#31688e\"],[0.4444444444444444,\"#26828e\"],[0.5555555555555556,\"#1f9e89\"],[0.6666666666666666,\"#35b779\"],[0.7777777777777778,\"#6ece58\"],[0.8888888888888888,\"#b5de2b\"],[1.0,\"#fde725\"]],\"sequentialminus\":[[0.0,\"#440154\"],[0.1111111111111111,\"#482878\"],[0.2222222222222222,\"#3e4989\"],[0.3333333333333333,\"#31688e\"],[0.4444444444444444,\"#26828e\"],[0.5555555555555556,\"#1f9e89\"],[0.6666666666666666,\"#35b779\"],[0.7777777777777778,\"#6ece58\"],[0.8888888888888888,\"#b5de2b\"],[1.0,\"#fde725\"]]},\"colorway\":[\"#1F77B4\",\"#FF7F0E\",\"#2CA02C\",\"#D62728\",\"#9467BD\",\"#8C564B\",\"#E377C2\",\"#7F7F7F\",\"#BCBD22\",\"#17BECF\"],\"font\":{\"color\":\"rgb(36,36,36)\"},\"geo\":{\"bgcolor\":\"white\",\"lakecolor\":\"white\",\"landcolor\":\"white\",\"showlakes\":true,\"showland\":true,\"subunitcolor\":\"white\"},\"hoverlabel\":{\"align\":\"left\"},\"hovermode\":\"closest\",\"mapbox\":{\"style\":\"light\"},\"paper_bgcolor\":\"white\",\"plot_bgcolor\":\"white\",\"polar\":{\"angularaxis\":{\"gridcolor\":\"rgb(232,232,232)\",\"linecolor\":\"rgb(36,36,36)\",\"showgrid\":false,\"showline\":true,\"ticks\":\"outside\"},\"bgcolor\":\"white\",\"radialaxis\":{\"gridcolor\":\"rgb(232,232,232)\",\"linecolor\":\"rgb(36,36,36)\",\"showgrid\":false,\"showline\":true,\"ticks\":\"outside\"}},\"scene\":{\"xaxis\":{\"backgroundcolor\":\"white\",\"gridcolor\":\"rgb(232,232,232)\",\"gridwidth\":2,\"linecolor\":\"rgb(36,36,36)\",\"showbackground\":true,\"showgrid\":false,\"showline\":true,\"ticks\":\"outside\",\"zeroline\":false,\"zerolinecolor\":\"rgb(36,36,36)\"},\"yaxis\":{\"backgroundcolor\":\"white\",\"gridcolor\":\"rgb(232,232,232)\",\"gridwidth\":2,\"linecolor\":\"rgb(36,36,36)\",\"showbackground\":true,\"showgrid\":false,\"showline\":true,\"ticks\":\"outside\",\"zeroline\":false,\"zerolinecolor\":\"rgb(36,36,36)\"},\"zaxis\":{\"backgroundcolor\":\"white\",\"gridcolor\":\"rgb(232,232,232)\",\"gridwidth\":2,\"linecolor\":\"rgb(36,36,36)\",\"showbackground\":true,\"showgrid\":false,\"showline\":true,\"ticks\":\"outside\",\"zeroline\":false,\"zerolinecolor\":\"rgb(36,36,36)\"}},\"shapedefaults\":{\"fillcolor\":\"black\",\"line\":{\"width\":0},\"opacity\":0.3},\"ternary\":{\"aaxis\":{\"gridcolor\":\"rgb(232,232,232)\",\"linecolor\":\"rgb(36,36,36)\",\"showgrid\":false,\"showline\":true,\"ticks\":\"outside\"},\"baxis\":{\"gridcolor\":\"rgb(232,232,232)\",\"linecolor\":\"rgb(36,36,36)\",\"showgrid\":false,\"showline\":true,\"ticks\":\"outside\"},\"bgcolor\":\"white\",\"caxis\":{\"gridcolor\":\"rgb(232,232,232)\",\"linecolor\":\"rgb(36,36,36)\",\"showgrid\":false,\"showline\":true,\"ticks\":\"outside\"}},\"title\":{\"x\":0.05},\"xaxis\":{\"automargin\":true,\"gridcolor\":\"rgb(232,232,232)\",\"linecolor\":\"rgb(36,36,36)\",\"showgrid\":false,\"showline\":true,\"ticks\":\"outside\",\"title\":{\"standoff\":15},\"zeroline\":false,\"zerolinecolor\":\"rgb(36,36,36)\"},\"yaxis\":{\"automargin\":true,\"gridcolor\":\"rgb(232,232,232)\",\"linecolor\":\"rgb(36,36,36)\",\"showgrid\":false,\"showline\":true,\"ticks\":\"outside\",\"title\":{\"standoff\":15},\"zeroline\":false,\"zerolinecolor\":\"rgb(36,36,36)\"}}},\"xaxis\":{\"anchor\":\"y\",\"domain\":[0.0,1.0],\"title\":{\"text\":\"emotions\"}},\"yaxis\":{\"anchor\":\"x\",\"domain\":[0.0,1.0],\"title\":{\"text\":\"Frequency\"},\"showgrid\":true},\"legend\":{\"tracegroupgap\":0},\"title\":{\"text\":\"Emotions distributions\"},\"barmode\":\"relative\",\"height\":400,\"width\":500},                        {\"responsive\": true}                    ).then(function(){\n",
              "                            \n",
              "var gd = document.getElementById('26bd3a70-ed51-45a3-aa47-ee60e8673c24');\n",
              "var x = new MutationObserver(function (mutations, observer) {{\n",
              "        var display = window.getComputedStyle(gd).display;\n",
              "        if (!display || display === 'none') {{\n",
              "            console.log([gd, 'removed!']);\n",
              "            Plotly.purge(gd);\n",
              "            observer.disconnect();\n",
              "        }}\n",
              "}});\n",
              "\n",
              "// Listen for the removal of the full notebook cells\n",
              "var notebookContainer = gd.closest('#notebook-container');\n",
              "if (notebookContainer) {{\n",
              "    x.observe(notebookContainer, {childList: true});\n",
              "}}\n",
              "\n",
              "// Listen for the clearing of the current output cell\n",
              "var outputEl = gd.closest('.output');\n",
              "if (outputEl) {{\n",
              "    x.observe(outputEl, {childList: true});\n",
              "}}\n",
              "\n",
              "                        })                };                            </script>        </div>\n",
              "</body>\n",
              "</html>"
            ]
          },
          "metadata": {},
          "output_type": "display_data"
        }
      ],
      "source": [
        "import plotly.express as px\n",
        "fig = px.bar(df.emotions.value_counts().reset_index(), x='emotions', y='count',\n",
        "            title='Emotions distributions', width=500, height=400, template='simple_white',\n",
        "            color_discrete_sequence=['#088F8F'],\n",
        "            labels={\"sentiment\": \"Emotions\",\n",
        "                     \"count\": \"Frequency\"})\n",
        "fig.update_yaxes(showgrid=True)\n",
        "fig.show()"
      ]
    },
    {
      "cell_type": "markdown",
      "id": "6fa9605f-f8c6-47ee-9d4d-533757f808f8",
      "metadata": {
        "id": "6fa9605f-f8c6-47ee-9d4d-533757f808f8"
      },
      "source": [
        "## 3. Split Dataset"
      ]
    },
    {
      "cell_type": "markdown",
      "id": "68de2d71-f98e-42da-a41b-9c0060fdd719",
      "metadata": {
        "id": "68de2d71-f98e-42da-a41b-9c0060fdd719"
      },
      "source": [
        "### 3.1 Balance Sampling"
      ]
    },
    {
      "cell_type": "code",
      "execution_count": null,
      "id": "7ebba74ff11cef5f",
      "metadata": {
        "id": "7ebba74ff11cef5f"
      },
      "outputs": [],
      "source": [
        "from utilities.balance_dataset import under_sampling_cat"
      ]
    },
    {
      "cell_type": "code",
      "execution_count": null,
      "id": "cbf319be-e522-4e7f-95ef-26ab1090d0fd",
      "metadata": {
        "id": "cbf319be-e522-4e7f-95ef-26ab1090d0fd"
      },
      "outputs": [],
      "source": [
        "undersampling = {0: 57000, 1:57000}\n",
        "\n",
        "X_res, y_res = under_sampling_cat(df_emotions.text.values.reshape(-1, 1),\n",
        "                                  df_emotions.label.values, seed,\n",
        "                                  strategy=undersampling)"
      ]
    },
    {
      "cell_type": "code",
      "execution_count": null,
      "id": "2cc984f1-1bf7-4e65-8ae7-3bd67ca0d4e0",
      "metadata": {
        "colab": {
          "base_uri": "https://localhost:8080/"
        },
        "id": "2cc984f1-1bf7-4e65-8ae7-3bd67ca0d4e0",
        "outputId": "6486d5b0-1483-4451-99e2-71bfa555912c"
      },
      "outputs": [
        {
          "name": "stdout",
          "output_type": "stream",
          "text": [
            "Resample shape:\n",
            "{'anger': 57317, 'sadness': 57000, 'joy': 57000, 'fear': 47712, 'love': 34554, 'surprise': 14972}\n"
          ]
        }
      ],
      "source": [
        "final_sample = {label_to_emotion[k]: v for k, v in sorted(Counter(y_res).items(),\n",
        "                                                          key=lambda item:item[1], reverse=True)}\n",
        "print(\"Resample shape:\")\n",
        "print(final_sample)\n"
      ]
    },
    {
      "cell_type": "code",
      "execution_count": null,
      "id": "c2110182-6de7-48f7-93c8-6d5e650b28a6",
      "metadata": {
        "colab": {
          "base_uri": "https://localhost:8080/",
          "height": 417
        },
        "id": "c2110182-6de7-48f7-93c8-6d5e650b28a6",
        "outputId": "b190cf85-c1b2-42af-ba22-88225ef3a0b8"
      },
      "outputs": [
        {
          "data": {
            "text/html": [
              "<html>\n",
              "<head><meta charset=\"utf-8\" /></head>\n",
              "<body>\n",
              "    <div>            <script src=\"https://cdnjs.cloudflare.com/ajax/libs/mathjax/2.7.5/MathJax.js?config=TeX-AMS-MML_SVG\"></script><script type=\"text/javascript\">if (window.MathJax && window.MathJax.Hub && window.MathJax.Hub.Config) {window.MathJax.Hub.Config({SVG: {font: \"STIX-Web\"}});}</script>                <script type=\"text/javascript\">window.PlotlyConfig = {MathJaxConfig: 'local'};</script>\n",
              "        <script charset=\"utf-8\" src=\"https://cdn.plot.ly/plotly-2.35.2.min.js\"></script>                <div id=\"78a06fe4-3c7c-4d89-950f-8c0f2579f05b\" class=\"plotly-graph-div\" style=\"height:400px; width:600px;\"></div>            <script type=\"text/javascript\">                                    window.PLOTLYENV=window.PLOTLYENV || {};                                    if (document.getElementById(\"78a06fe4-3c7c-4d89-950f-8c0f2579f05b\")) {                    Plotly.newPlot(                        \"78a06fe4-3c7c-4d89-950f-8c0f2579f05b\",                        [{\"alignmentgroup\":\"True\",\"hovertemplate\":\"Emotions=%{x}\\u003cbr\\u003eFrequency=%{y}\\u003cextra\\u003e\\u003c\\u002fextra\\u003e\",\"legendgroup\":\"\",\"marker\":{\"color\":\"#088F8F\",\"pattern\":{\"shape\":\"\"}},\"name\":\"\",\"offsetgroup\":\"\",\"orientation\":\"v\",\"showlegend\":false,\"textposition\":\"auto\",\"x\":[\"anger\",\"sadness\",\"joy\",\"fear\",\"love\",\"surprise\"],\"xaxis\":\"x\",\"y\":[57317,57000,57000,47712,34554,14972],\"yaxis\":\"y\",\"type\":\"bar\"}],                        {\"template\":{\"data\":{\"barpolar\":[{\"marker\":{\"line\":{\"color\":\"white\",\"width\":0.5},\"pattern\":{\"fillmode\":\"overlay\",\"size\":10,\"solidity\":0.2}},\"type\":\"barpolar\"}],\"bar\":[{\"error_x\":{\"color\":\"rgb(36,36,36)\"},\"error_y\":{\"color\":\"rgb(36,36,36)\"},\"marker\":{\"line\":{\"color\":\"white\",\"width\":0.5},\"pattern\":{\"fillmode\":\"overlay\",\"size\":10,\"solidity\":0.2}},\"type\":\"bar\"}],\"carpet\":[{\"aaxis\":{\"endlinecolor\":\"rgb(36,36,36)\",\"gridcolor\":\"white\",\"linecolor\":\"white\",\"minorgridcolor\":\"white\",\"startlinecolor\":\"rgb(36,36,36)\"},\"baxis\":{\"endlinecolor\":\"rgb(36,36,36)\",\"gridcolor\":\"white\",\"linecolor\":\"white\",\"minorgridcolor\":\"white\",\"startlinecolor\":\"rgb(36,36,36)\"},\"type\":\"carpet\"}],\"choropleth\":[{\"colorbar\":{\"outlinewidth\":1,\"tickcolor\":\"rgb(36,36,36)\",\"ticks\":\"outside\"},\"type\":\"choropleth\"}],\"contourcarpet\":[{\"colorbar\":{\"outlinewidth\":1,\"tickcolor\":\"rgb(36,36,36)\",\"ticks\":\"outside\"},\"type\":\"contourcarpet\"}],\"contour\":[{\"colorbar\":{\"outlinewidth\":1,\"tickcolor\":\"rgb(36,36,36)\",\"ticks\":\"outside\"},\"colorscale\":[[0.0,\"#440154\"],[0.1111111111111111,\"#482878\"],[0.2222222222222222,\"#3e4989\"],[0.3333333333333333,\"#31688e\"],[0.4444444444444444,\"#26828e\"],[0.5555555555555556,\"#1f9e89\"],[0.6666666666666666,\"#35b779\"],[0.7777777777777778,\"#6ece58\"],[0.8888888888888888,\"#b5de2b\"],[1.0,\"#fde725\"]],\"type\":\"contour\"}],\"heatmapgl\":[{\"colorbar\":{\"outlinewidth\":1,\"tickcolor\":\"rgb(36,36,36)\",\"ticks\":\"outside\"},\"colorscale\":[[0.0,\"#440154\"],[0.1111111111111111,\"#482878\"],[0.2222222222222222,\"#3e4989\"],[0.3333333333333333,\"#31688e\"],[0.4444444444444444,\"#26828e\"],[0.5555555555555556,\"#1f9e89\"],[0.6666666666666666,\"#35b779\"],[0.7777777777777778,\"#6ece58\"],[0.8888888888888888,\"#b5de2b\"],[1.0,\"#fde725\"]],\"type\":\"heatmapgl\"}],\"heatmap\":[{\"colorbar\":{\"outlinewidth\":1,\"tickcolor\":\"rgb(36,36,36)\",\"ticks\":\"outside\"},\"colorscale\":[[0.0,\"#440154\"],[0.1111111111111111,\"#482878\"],[0.2222222222222222,\"#3e4989\"],[0.3333333333333333,\"#31688e\"],[0.4444444444444444,\"#26828e\"],[0.5555555555555556,\"#1f9e89\"],[0.6666666666666666,\"#35b779\"],[0.7777777777777778,\"#6ece58\"],[0.8888888888888888,\"#b5de2b\"],[1.0,\"#fde725\"]],\"type\":\"heatmap\"}],\"histogram2dcontour\":[{\"colorbar\":{\"outlinewidth\":1,\"tickcolor\":\"rgb(36,36,36)\",\"ticks\":\"outside\"},\"colorscale\":[[0.0,\"#440154\"],[0.1111111111111111,\"#482878\"],[0.2222222222222222,\"#3e4989\"],[0.3333333333333333,\"#31688e\"],[0.4444444444444444,\"#26828e\"],[0.5555555555555556,\"#1f9e89\"],[0.6666666666666666,\"#35b779\"],[0.7777777777777778,\"#6ece58\"],[0.8888888888888888,\"#b5de2b\"],[1.0,\"#fde725\"]],\"type\":\"histogram2dcontour\"}],\"histogram2d\":[{\"colorbar\":{\"outlinewidth\":1,\"tickcolor\":\"rgb(36,36,36)\",\"ticks\":\"outside\"},\"colorscale\":[[0.0,\"#440154\"],[0.1111111111111111,\"#482878\"],[0.2222222222222222,\"#3e4989\"],[0.3333333333333333,\"#31688e\"],[0.4444444444444444,\"#26828e\"],[0.5555555555555556,\"#1f9e89\"],[0.6666666666666666,\"#35b779\"],[0.7777777777777778,\"#6ece58\"],[0.8888888888888888,\"#b5de2b\"],[1.0,\"#fde725\"]],\"type\":\"histogram2d\"}],\"histogram\":[{\"marker\":{\"line\":{\"color\":\"white\",\"width\":0.6}},\"type\":\"histogram\"}],\"mesh3d\":[{\"colorbar\":{\"outlinewidth\":1,\"tickcolor\":\"rgb(36,36,36)\",\"ticks\":\"outside\"},\"type\":\"mesh3d\"}],\"parcoords\":[{\"line\":{\"colorbar\":{\"outlinewidth\":1,\"tickcolor\":\"rgb(36,36,36)\",\"ticks\":\"outside\"}},\"type\":\"parcoords\"}],\"pie\":[{\"automargin\":true,\"type\":\"pie\"}],\"scatter3d\":[{\"line\":{\"colorbar\":{\"outlinewidth\":1,\"tickcolor\":\"rgb(36,36,36)\",\"ticks\":\"outside\"}},\"marker\":{\"colorbar\":{\"outlinewidth\":1,\"tickcolor\":\"rgb(36,36,36)\",\"ticks\":\"outside\"}},\"type\":\"scatter3d\"}],\"scattercarpet\":[{\"marker\":{\"colorbar\":{\"outlinewidth\":1,\"tickcolor\":\"rgb(36,36,36)\",\"ticks\":\"outside\"}},\"type\":\"scattercarpet\"}],\"scattergeo\":[{\"marker\":{\"colorbar\":{\"outlinewidth\":1,\"tickcolor\":\"rgb(36,36,36)\",\"ticks\":\"outside\"}},\"type\":\"scattergeo\"}],\"scattergl\":[{\"marker\":{\"colorbar\":{\"outlinewidth\":1,\"tickcolor\":\"rgb(36,36,36)\",\"ticks\":\"outside\"}},\"type\":\"scattergl\"}],\"scattermapbox\":[{\"marker\":{\"colorbar\":{\"outlinewidth\":1,\"tickcolor\":\"rgb(36,36,36)\",\"ticks\":\"outside\"}},\"type\":\"scattermapbox\"}],\"scatterpolargl\":[{\"marker\":{\"colorbar\":{\"outlinewidth\":1,\"tickcolor\":\"rgb(36,36,36)\",\"ticks\":\"outside\"}},\"type\":\"scatterpolargl\"}],\"scatterpolar\":[{\"marker\":{\"colorbar\":{\"outlinewidth\":1,\"tickcolor\":\"rgb(36,36,36)\",\"ticks\":\"outside\"}},\"type\":\"scatterpolar\"}],\"scatter\":[{\"fillpattern\":{\"fillmode\":\"overlay\",\"size\":10,\"solidity\":0.2},\"type\":\"scatter\"}],\"scatterternary\":[{\"marker\":{\"colorbar\":{\"outlinewidth\":1,\"tickcolor\":\"rgb(36,36,36)\",\"ticks\":\"outside\"}},\"type\":\"scatterternary\"}],\"surface\":[{\"colorbar\":{\"outlinewidth\":1,\"tickcolor\":\"rgb(36,36,36)\",\"ticks\":\"outside\"},\"colorscale\":[[0.0,\"#440154\"],[0.1111111111111111,\"#482878\"],[0.2222222222222222,\"#3e4989\"],[0.3333333333333333,\"#31688e\"],[0.4444444444444444,\"#26828e\"],[0.5555555555555556,\"#1f9e89\"],[0.6666666666666666,\"#35b779\"],[0.7777777777777778,\"#6ece58\"],[0.8888888888888888,\"#b5de2b\"],[1.0,\"#fde725\"]],\"type\":\"surface\"}],\"table\":[{\"cells\":{\"fill\":{\"color\":\"rgb(237,237,237)\"},\"line\":{\"color\":\"white\"}},\"header\":{\"fill\":{\"color\":\"rgb(217,217,217)\"},\"line\":{\"color\":\"white\"}},\"type\":\"table\"}]},\"layout\":{\"annotationdefaults\":{\"arrowhead\":0,\"arrowwidth\":1},\"autotypenumbers\":\"strict\",\"coloraxis\":{\"colorbar\":{\"outlinewidth\":1,\"tickcolor\":\"rgb(36,36,36)\",\"ticks\":\"outside\"}},\"colorscale\":{\"diverging\":[[0.0,\"rgb(103,0,31)\"],[0.1,\"rgb(178,24,43)\"],[0.2,\"rgb(214,96,77)\"],[0.3,\"rgb(244,165,130)\"],[0.4,\"rgb(253,219,199)\"],[0.5,\"rgb(247,247,247)\"],[0.6,\"rgb(209,229,240)\"],[0.7,\"rgb(146,197,222)\"],[0.8,\"rgb(67,147,195)\"],[0.9,\"rgb(33,102,172)\"],[1.0,\"rgb(5,48,97)\"]],\"sequential\":[[0.0,\"#440154\"],[0.1111111111111111,\"#482878\"],[0.2222222222222222,\"#3e4989\"],[0.3333333333333333,\"#31688e\"],[0.4444444444444444,\"#26828e\"],[0.5555555555555556,\"#1f9e89\"],[0.6666666666666666,\"#35b779\"],[0.7777777777777778,\"#6ece58\"],[0.8888888888888888,\"#b5de2b\"],[1.0,\"#fde725\"]],\"sequentialminus\":[[0.0,\"#440154\"],[0.1111111111111111,\"#482878\"],[0.2222222222222222,\"#3e4989\"],[0.3333333333333333,\"#31688e\"],[0.4444444444444444,\"#26828e\"],[0.5555555555555556,\"#1f9e89\"],[0.6666666666666666,\"#35b779\"],[0.7777777777777778,\"#6ece58\"],[0.8888888888888888,\"#b5de2b\"],[1.0,\"#fde725\"]]},\"colorway\":[\"#1F77B4\",\"#FF7F0E\",\"#2CA02C\",\"#D62728\",\"#9467BD\",\"#8C564B\",\"#E377C2\",\"#7F7F7F\",\"#BCBD22\",\"#17BECF\"],\"font\":{\"color\":\"rgb(36,36,36)\"},\"geo\":{\"bgcolor\":\"white\",\"lakecolor\":\"white\",\"landcolor\":\"white\",\"showlakes\":true,\"showland\":true,\"subunitcolor\":\"white\"},\"hoverlabel\":{\"align\":\"left\"},\"hovermode\":\"closest\",\"mapbox\":{\"style\":\"light\"},\"paper_bgcolor\":\"white\",\"plot_bgcolor\":\"white\",\"polar\":{\"angularaxis\":{\"gridcolor\":\"rgb(232,232,232)\",\"linecolor\":\"rgb(36,36,36)\",\"showgrid\":false,\"showline\":true,\"ticks\":\"outside\"},\"bgcolor\":\"white\",\"radialaxis\":{\"gridcolor\":\"rgb(232,232,232)\",\"linecolor\":\"rgb(36,36,36)\",\"showgrid\":false,\"showline\":true,\"ticks\":\"outside\"}},\"scene\":{\"xaxis\":{\"backgroundcolor\":\"white\",\"gridcolor\":\"rgb(232,232,232)\",\"gridwidth\":2,\"linecolor\":\"rgb(36,36,36)\",\"showbackground\":true,\"showgrid\":false,\"showline\":true,\"ticks\":\"outside\",\"zeroline\":false,\"zerolinecolor\":\"rgb(36,36,36)\"},\"yaxis\":{\"backgroundcolor\":\"white\",\"gridcolor\":\"rgb(232,232,232)\",\"gridwidth\":2,\"linecolor\":\"rgb(36,36,36)\",\"showbackground\":true,\"showgrid\":false,\"showline\":true,\"ticks\":\"outside\",\"zeroline\":false,\"zerolinecolor\":\"rgb(36,36,36)\"},\"zaxis\":{\"backgroundcolor\":\"white\",\"gridcolor\":\"rgb(232,232,232)\",\"gridwidth\":2,\"linecolor\":\"rgb(36,36,36)\",\"showbackground\":true,\"showgrid\":false,\"showline\":true,\"ticks\":\"outside\",\"zeroline\":false,\"zerolinecolor\":\"rgb(36,36,36)\"}},\"shapedefaults\":{\"fillcolor\":\"black\",\"line\":{\"width\":0},\"opacity\":0.3},\"ternary\":{\"aaxis\":{\"gridcolor\":\"rgb(232,232,232)\",\"linecolor\":\"rgb(36,36,36)\",\"showgrid\":false,\"showline\":true,\"ticks\":\"outside\"},\"baxis\":{\"gridcolor\":\"rgb(232,232,232)\",\"linecolor\":\"rgb(36,36,36)\",\"showgrid\":false,\"showline\":true,\"ticks\":\"outside\"},\"bgcolor\":\"white\",\"caxis\":{\"gridcolor\":\"rgb(232,232,232)\",\"linecolor\":\"rgb(36,36,36)\",\"showgrid\":false,\"showline\":true,\"ticks\":\"outside\"}},\"title\":{\"x\":0.05},\"xaxis\":{\"automargin\":true,\"gridcolor\":\"rgb(232,232,232)\",\"linecolor\":\"rgb(36,36,36)\",\"showgrid\":false,\"showline\":true,\"ticks\":\"outside\",\"title\":{\"standoff\":15},\"zeroline\":false,\"zerolinecolor\":\"rgb(36,36,36)\"},\"yaxis\":{\"automargin\":true,\"gridcolor\":\"rgb(232,232,232)\",\"linecolor\":\"rgb(36,36,36)\",\"showgrid\":false,\"showline\":true,\"ticks\":\"outside\",\"title\":{\"standoff\":15},\"zeroline\":false,\"zerolinecolor\":\"rgb(36,36,36)\"}}},\"xaxis\":{\"anchor\":\"y\",\"domain\":[0.0,1.0],\"title\":{\"text\":\"Emotions\"}},\"yaxis\":{\"anchor\":\"x\",\"domain\":[0.0,1.0],\"title\":{\"text\":\"Frequency\"},\"showgrid\":true},\"legend\":{\"tracegroupgap\":0},\"title\":{\"text\":\"Emotions distributions after resampling\"},\"barmode\":\"relative\",\"height\":400,\"width\":600},                        {\"responsive\": true}                    ).then(function(){\n",
              "                            \n",
              "var gd = document.getElementById('78a06fe4-3c7c-4d89-950f-8c0f2579f05b');\n",
              "var x = new MutationObserver(function (mutations, observer) {{\n",
              "        var display = window.getComputedStyle(gd).display;\n",
              "        if (!display || display === 'none') {{\n",
              "            console.log([gd, 'removed!']);\n",
              "            Plotly.purge(gd);\n",
              "            observer.disconnect();\n",
              "        }}\n",
              "}});\n",
              "\n",
              "// Listen for the removal of the full notebook cells\n",
              "var notebookContainer = gd.closest('#notebook-container');\n",
              "if (notebookContainer) {{\n",
              "    x.observe(notebookContainer, {childList: true});\n",
              "}}\n",
              "\n",
              "// Listen for the clearing of the current output cell\n",
              "var outputEl = gd.closest('.output');\n",
              "if (outputEl) {{\n",
              "    x.observe(outputEl, {childList: true});\n",
              "}}\n",
              "\n",
              "                        })                };                            </script>        </div>\n",
              "</body>\n",
              "</html>"
            ]
          },
          "metadata": {},
          "output_type": "display_data"
        }
      ],
      "source": [
        "fig_re = px.bar(x=list(final_sample.keys()), y=list(final_sample.values()),\n",
        "            title='Emotions distributions after resampling', width=600, height=400, template='simple_white',\n",
        "            color_discrete_sequence=['#088F8F'],\n",
        "            labels={\"x\": \"Emotions\",\n",
        "                     \"y\": \"Frequency\"})\n",
        "fig_re.update_yaxes(showgrid=True)\n",
        "fig_re.show()\n"
      ]
    },
    {
      "cell_type": "markdown",
      "id": "92145b33-4e6c-4cc7-a8d8-d1f9122d1ee5",
      "metadata": {
        "id": "92145b33-4e6c-4cc7-a8d8-d1f9122d1ee5"
      },
      "source": [
        "### 3.2 Split Dataset"
      ]
    },
    {
      "cell_type": "code",
      "execution_count": null,
      "id": "d1f02e11-f228-4df0-885c-56e2ce34441a",
      "metadata": {
        "id": "d1f02e11-f228-4df0-885c-56e2ce34441a"
      },
      "outputs": [],
      "source": [
        "X = X_res.reshape(-1)\n",
        "y = y_res\n",
        "X_train, X_val, y_train, y_val = train_test_split(X_res, y_res, test_size=0.20, stratify=y_res,\n",
        "                                                  random_state= seed)"
      ]
    },
    {
      "cell_type": "code",
      "execution_count": null,
      "id": "7fb9f7cc-7dea-41ec-bb88-99daefe25676",
      "metadata": {
        "id": "7fb9f7cc-7dea-41ec-bb88-99daefe25676"
      },
      "outputs": [],
      "source": [
        "X_val, X_test, y_val, y_test  = train_test_split(X_val, y_val, test_size=0.40,\n",
        "                                                 stratify=y_val, random_state= seed)"
      ]
    },
    {
      "cell_type": "markdown",
      "id": "3f5f4a2d-60a6-4b9c-acdd-ed59a1d10386",
      "metadata": {
        "id": "3f5f4a2d-60a6-4b9c-acdd-ed59a1d10386"
      },
      "source": [
        "## 4. Prepare Training"
      ]
    },
    {
      "cell_type": "code",
      "execution_count": null,
      "id": "c7d2b14d-d167-4840-8b9f-c909e6c7623e",
      "metadata": {
        "id": "c7d2b14d-d167-4840-8b9f-c909e6c7623e"
      },
      "outputs": [],
      "source": [
        "from peft.utils import constants"
      ]
    },
    {
      "cell_type": "code",
      "execution_count": null,
      "id": "92751e0240c3e575",
      "metadata": {
        "id": "92751e0240c3e575"
      },
      "outputs": [],
      "source": [
        "training_args = TrainingArguments(\n",
        "    output_dir=None,\n",
        "    learning_rate=1e-4,# output directory\n",
        "    num_train_epochs=2,\n",
        "    use_cpu=True if device.type == 'cpu' else False,\n",
        "    # dataloader_num_workers=4,\n",
        "    per_device_train_batch_size=8,\n",
        "    per_device_eval_batch_size=4,\n",
        "    group_by_length = True,\n",
        "    logging_steps = 5,\n",
        "    weight_decay=0.05,\n",
        "    eval_strategy=\"epoch\",\n",
        "    save_strategy=\"epoch\",\n",
        "    save_total_limit=1,\n",
        "    load_best_model_at_end=True,\n",
        "    report_to=\"none\",\n",
        ")"
      ]
    },
    {
      "cell_type": "code",
      "execution_count": null,
      "id": "352402d34d07dd2",
      "metadata": {
        "id": "352402d34d07dd2"
      },
      "outputs": [],
      "source": [
        "target_modules_map = constants.TRANSFORMERS_MODELS_TO_LORA_TARGET_MODULES_MAPPING"
      ]
    },
    {
      "cell_type": "code",
      "execution_count": null,
      "id": "e3a753477fdd8afb",
      "metadata": {
        "id": "e3a753477fdd8afb"
      },
      "outputs": [],
      "source": [
        "def main(trainer_args, **kwargs):\n",
        "\n",
        "    name = kwargs['check_point'].split(\"/\")[-1].lower()\n",
        "\n",
        "    trainer_args.output_dir = f\"{kwargs['output_dir']}/peft-{name}\"\n",
        "    trainer_args.logging_dir = f\"{kwargs['output_dir']}/peft-{name}/logs\"\n",
        "\n",
        "    tokenizer = build_tokenizer(kwargs['check_point'], kwargs['max_length'])\n",
        "\n",
        "    train_dataset = EmotionsDataset(kwargs['x_train'], kwargs['y_train'], tokenizer, kwargs['max_length'])\n",
        "    val_dataset = EmotionsDataset(kwargs['x_val'], kwargs['y_val'], tokenizer, kwargs['max_length'])\n",
        "\n",
        "    data_collator = collate_func(tokenizer=tokenizer)\n",
        "\n",
        "    model = seq_class_init(kwargs['check_point'],\n",
        "                           num_labels=kwargs['num_labels'],\n",
        "                           id2label=kwargs['id2label'],\n",
        "                           label2id=kwargs['label2id'], device=kwargs['device'],\n",
        "                           quantized=kwargs['quantized'])\n",
        "\n",
        "\n",
        "    model = model_postprocessing(model, name)\n",
        "\n",
        "\n",
        "    if 'modernbert' in name:\n",
        "        target_modules = [\"Wqkv\", \"Wo\", \"Wi\"]\n",
        "\n",
        "    else:\n",
        "        target_modules = target_modules_map[name.split('-')[0]]\n",
        "\n",
        "\n",
        "    peft_config = lora_peft(target_modules=target_modules)\n",
        "    peft_config.inference_model = False\n",
        "\n",
        "    peft_model = get_peft_model(model, peft_config)\n",
        "    peft_model.config.use_cache = False\n",
        "\n",
        "    llm_trainer = Trainer(\n",
        "    model=peft_model,\n",
        "    args=trainer_args,\n",
        "    train_dataset=train_dataset,\n",
        "    eval_dataset=val_dataset,\n",
        "    processing_class=tokenizer,\n",
        "    data_collator=data_collator,\n",
        "    compute_metrics=compute_classification_metrics)\n",
        "\n",
        "    print(\"\")\n",
        "    print(\"------------------------------Training-----------------------------\")\n",
        "    print(\"\")\n",
        "\n",
        "    print(f\"PEFT {name.capitalize()} Model\")\n",
        "    peft_model.print_trainable_parameters()\n",
        "    return llm_trainer\n"
      ]
    },
    {
      "cell_type": "code",
      "execution_count": null,
      "id": "90881039-2024-4d58-9873-f65eaa46cd2e",
      "metadata": {
        "id": "90881039-2024-4d58-9873-f65eaa46cd2e"
      },
      "outputs": [],
      "source": [
        "check_points = [\"roberta-base\", \"facebook/opt-350m\", \"answerdotai/ModernBERT-base\"]"
      ]
    },
    {
      "cell_type": "code",
      "execution_count": null,
      "id": "ab21f2cf-f822-45dc-835e-a5ea668c34cf",
      "metadata": {
        "id": "ab21f2cf-f822-45dc-835e-a5ea668c34cf"
      },
      "outputs": [],
      "source": [
        "params = {'check_point': check_points[0], 'quantized': False, 'num_labels': 6, 'x_train': X_train, 'y_train': y_train,\n",
        "          'x_val': X_val, 'y_val': y_val, 'max_length': 128, 'id2label': label_to_emotion, 'label2id': emotion_to_label,\n",
        "          'device': device, 'output_dir': './fine-tuned-lora',\n",
        "          'modules_to_save': ['classifier.dense.bias', 'classifier.dense.weight', 'classifier.out_proj.bias',\n",
        "                              'classifier.out_proj.weight']}"
      ]
    },
    {
      "cell_type": "markdown",
      "id": "7230273f-44b5-4b10-abc6-fd70e75c9ff6",
      "metadata": {
        "id": "7230273f-44b5-4b10-abc6-fd70e75c9ff6"
      },
      "source": [
        "## 5. Start Training"
      ]
    },
    {
      "cell_type": "markdown",
      "id": "c_KxAqOdmtZn",
      "metadata": {
        "id": "c_KxAqOdmtZn"
      },
      "source": [
        "### 5.1 Roberta"
      ]
    },
    {
      "cell_type": "code",
      "execution_count": null,
      "id": "-RzvS2FMxdp8",
      "metadata": {
        "colab": {
          "base_uri": "https://localhost:8080/",
          "height": 499,
          "referenced_widgets": [
            "a208993f27234dbe87e3d78bc9e701d4",
            "58dfe380348740f8b41a03774715c0ad",
            "1f3e776c5cf144988590b9147e7e5a36",
            "82b2c72f9d454639b898a20968d1d6b6",
            "bb5971b86ee34ea8837e02cdc8b69618",
            "9c3a0e36fdbe4a1e827621420a645863",
            "ceecc391f62f4cd7a58049068f1372a5",
            "41db2aac2ea9453485ff19ba70b1e636",
            "45e1c1ef7a6445d8ad9b3787fd34eef6",
            "165df7024a414ca6977d9beba51236a0",
            "e2aa6ab8ed9146eaa74fe27c6ee6d414",
            "79ac433594954e95aadd3cdf7628adf8",
            "c465e0f07cb0406aa2d8b3e79ade3f05",
            "2e0b51a49acf4863985f1c6a17329424",
            "8857d881bbb3490a845f0a31b83b5c3e",
            "e98d5884483d4bcaa7cafef889845a44",
            "0c3357f462b84062aaf46e24de03e5b2",
            "d8a2af7ccaac49dfb787d09bd33714dc",
            "fe201da9d7454c3dab034ec226931cc7",
            "a45d7dbdfc494d1897261029a3fcd058",
            "3b8598d030e64bf487f899d10ef9b48e",
            "a246234e85824922b4e0bd64e14b8eeb",
            "584672df199b485b97950a61aab25c3b",
            "761e4c2e48204e8ca61387f0f85021e2",
            "acf66290806c40d08e90506147ab90dd",
            "1b4335e53f5649bdabef0df7fe555b46",
            "08d16829d45c42e3a2e6adfa6040aa8a",
            "23365345ac4e46709d9b2643e7f85375",
            "3061f8c52424405683385dd7d634e258",
            "d7bfae75f5c340cea9e9734ff693ab79",
            "f770d9510c5943a0b03c804f22b5f4b5",
            "a6781cfe4d404f7baa6520b98ac64f39",
            "7a60be4d14f24e23879752728faea6f5",
            "412e0fe3f0384260bf2f891e8029b350",
            "dc82da8e88a64aa8803f5fc8864dea5d",
            "b12a814283814728a08d5bd8892a1b85",
            "1125596194df4f7f9e0d791822fecdf8",
            "336e87c66b4f411b8938c4914a7c9cde",
            "fe04731626fa4e929a0e63735d362066",
            "212e99585f7d4d1cb3cf46f09eb609bd",
            "03e27c6b5b104ee2a1905ae9da3b8388",
            "7bfb8fc9a7be4995a936a3c88f2d8786",
            "c2447ebbbd7a400cb6952ae7ccf70c22",
            "77c7784f238945db99d159d03287f15f",
            "2ec099c3148147399b1f04bd62384a26",
            "3cf846f7b6c040c6859e32df5c4034eb",
            "ffe2af2098a64afca420a3d9b1f48548",
            "b9785215c00d4793b0769f93c2e62cc3",
            "2c6c3cd25bb24e5ea1a0ec3524dc133c",
            "61d7009ffd7346b9ac03228ec82e65a1",
            "f1b50d7eec4d4b639a37f90226754e45",
            "60492f5151a0490b9f56dbc74e9f6684",
            "249ee03a4a89444686ca8c07eae4a218",
            "372361c1a10b4b8790bb634ae4392f00",
            "62023e8cc969410884951292d5b1bab0"
          ]
        },
        "id": "-RzvS2FMxdp8",
        "outputId": "6969bf18-199f-4832-8c23-a405ed660826"
      },
      "outputs": [
        {
          "name": "stderr",
          "output_type": "stream",
          "text": [
            "Some weights of RobertaForSequenceClassification were not initialized from the model checkpoint at roberta-base and are newly initialized: ['classifier.dense.bias', 'classifier.dense.weight', 'classifier.out_proj.bias', 'classifier.out_proj.weight']\n",
            "You should probably TRAIN this model on a down-stream task to be able to use it for predictions and inference.\n",
            "No label_names provided for model class `PeftModelForSequenceClassification`. Since `PeftModel` hides base models input arguments, if label_names is not given, label_names can't be set automatically within `Trainer`. Note that empty label_names list will be used instead.\n"
          ]
        },
        {
          "name": "stdout",
          "output_type": "stream",
          "text": [
            "\n",
            "------------------------------Training-----------------------------\n",
            "\n",
            "PEFT Roberta-base Model\n",
            "trainable params: 890,118 || all params: 125,540,364 || trainable%: 0.7090\n"
          ]
        },
        {
          "data": {
            "text/html": [
              "\n",
              "    <div>\n",
              "      \n",
              "      <progress value='53712' max='53712' style='width:300px; height:20px; vertical-align: middle;'></progress>\n",
              "      [53712/53712 1:04:35, Epoch 2/2]\n",
              "    </div>\n",
              "    <table border=\"1\" class=\"dataframe\">\n",
              "  <thead>\n",
              " <tr style=\"text-align: left;\">\n",
              "      <th>Epoch</th>\n",
              "      <th>Training Loss</th>\n",
              "      <th>Validation Loss</th>\n",
              "      <th>Accuracy</th>\n",
              "      <th>Precision</th>\n",
              "      <th>Recall</th>\n",
              "      <th>F1</th>\n",
              "      <th>Matthews Correlation</th>\n",
              "    </tr>\n",
              "  </thead>\n",
              "  <tbody>\n",
              "    <tr>\n",
              "      <td>1</td>\n",
              "      <td>0.173700</td>\n",
              "      <td>0.163268</td>\n",
              "      <td>0.940264</td>\n",
              "      <td>0.945474</td>\n",
              "      <td>0.940264</td>\n",
              "      <td>0.941060</td>\n",
              "      <td>0.927441</td>\n",
              "    </tr>\n",
              "    <tr>\n",
              "      <td>2</td>\n",
              "      <td>0.071600</td>\n",
              "      <td>0.140079</td>\n",
              "      <td>0.941867</td>\n",
              "      <td>0.947099</td>\n",
              "      <td>0.941867</td>\n",
              "      <td>0.942529</td>\n",
              "      <td>0.929445</td>\n",
              "    </tr>\n",
              "  </tbody>\n",
              "</table><p>"
            ],
            "text/plain": [
              "<IPython.core.display.HTML object>"
            ]
          },
          "metadata": {},
          "output_type": "display_data"
        },
        {
          "data": {
            "application/vnd.jupyter.widget-view+json": {
              "model_id": "a208993f27234dbe87e3d78bc9e701d4",
              "version_major": 2,
              "version_minor": 0
            },
            "text/plain": [
              "Downloading builder script:   0%|          | 0.00/4.20k [00:00<?, ?B/s]"
            ]
          },
          "metadata": {},
          "output_type": "display_data"
        },
        {
          "data": {
            "application/vnd.jupyter.widget-view+json": {
              "model_id": "79ac433594954e95aadd3cdf7628adf8",
              "version_major": 2,
              "version_minor": 0
            },
            "text/plain": [
              "Downloading builder script:   0%|          | 0.00/7.56k [00:00<?, ?B/s]"
            ]
          },
          "metadata": {},
          "output_type": "display_data"
        },
        {
          "data": {
            "application/vnd.jupyter.widget-view+json": {
              "model_id": "584672df199b485b97950a61aab25c3b",
              "version_major": 2,
              "version_minor": 0
            },
            "text/plain": [
              "Downloading builder script:   0%|          | 0.00/7.38k [00:00<?, ?B/s]"
            ]
          },
          "metadata": {},
          "output_type": "display_data"
        },
        {
          "data": {
            "application/vnd.jupyter.widget-view+json": {
              "model_id": "412e0fe3f0384260bf2f891e8029b350",
              "version_major": 2,
              "version_minor": 0
            },
            "text/plain": [
              "Downloading builder script:   0%|          | 0.00/6.79k [00:00<?, ?B/s]"
            ]
          },
          "metadata": {},
          "output_type": "display_data"
        },
        {
          "data": {
            "application/vnd.jupyter.widget-view+json": {
              "model_id": "2ec099c3148147399b1f04bd62384a26",
              "version_major": 2,
              "version_minor": 0
            },
            "text/plain": [
              "Downloading builder script:   0%|          | 0.00/6.60k [00:00<?, ?B/s]"
            ]
          },
          "metadata": {},
          "output_type": "display_data"
        },
        {
          "data": {
            "text/plain": [
              "TrainOutput(global_step=53712, training_loss=0.20948075339874223, metrics={'train_runtime': 3876.4366, 'train_samples_per_second': 110.846, 'train_steps_per_second': 13.856, 'total_flos': 2.855915201396045e+16, 'train_loss': 0.20948075339874223, 'epoch': 2.0})"
            ]
          },
          "execution_count": 78,
          "metadata": {},
          "output_type": "execute_result"
        }
      ],
      "source": [
        "train_roberta = main(training_args, **params)\n",
        "train_roberta.train()"
      ]
    },
    {
      "cell_type": "code",
      "execution_count": null,
      "id": "fAFCj-V2Alnx",
      "metadata": {
        "id": "fAFCj-V2Alnx"
      },
      "outputs": [],
      "source": [
        "del train_roberta\n",
        "torch.cuda.empty_cache()"
      ]
    },
    {
      "cell_type": "markdown",
      "id": "y30DECTUBHsB",
      "metadata": {
        "id": "y30DECTUBHsB"
      },
      "source": [
        "### 5.2 Opt"
      ]
    },
    {
      "cell_type": "code",
      "execution_count": null,
      "id": "Z351V8l506sf",
      "metadata": {
        "colab": {
          "base_uri": "https://localhost:8080/",
          "height": 339
        },
        "id": "Z351V8l506sf",
        "outputId": "6811d610-5255-4e4d-b5b6-86570072bbf5"
      },
      "outputs": [
        {
          "name": "stderr",
          "output_type": "stream",
          "text": [
            "Some weights of OPTForSequenceClassification were not initialized from the model checkpoint at facebook/opt-350m and are newly initialized: ['score.weight']\n",
            "You should probably TRAIN this model on a down-stream task to be able to use it for predictions and inference.\n",
            "No label_names provided for model class `PeftModelForSequenceClassification`. Since `PeftModel` hides base models input arguments, if label_names is not given, label_names can't be set automatically within `Trainer`. Note that empty label_names list will be used instead.\n"
          ]
        },
        {
          "name": "stdout",
          "output_type": "stream",
          "text": [
            "\n",
            "------------------------------Training-----------------------------\n",
            "\n",
            "PEFT Opt-350m Model\n",
            "trainable params: 789,504 || all params: 331,988,992 || trainable%: 0.2378\n"
          ]
        },
        {
          "data": {
            "text/html": [
              "\n",
              "    <div>\n",
              "      \n",
              "      <progress value='53712' max='53712' style='width:300px; height:20px; vertical-align: middle;'></progress>\n",
              "      [53712/53712 2:27:34, Epoch 2/2]\n",
              "    </div>\n",
              "    <table border=\"1\" class=\"dataframe\">\n",
              "  <thead>\n",
              " <tr style=\"text-align: left;\">\n",
              "      <th>Epoch</th>\n",
              "      <th>Training Loss</th>\n",
              "      <th>Validation Loss</th>\n",
              "      <th>Accuracy</th>\n",
              "      <th>Precision</th>\n",
              "      <th>Recall</th>\n",
              "      <th>F1</th>\n",
              "      <th>Matthews Correlation</th>\n",
              "    </tr>\n",
              "  </thead>\n",
              "  <tbody>\n",
              "    <tr>\n",
              "      <td>1</td>\n",
              "      <td>0.204300</td>\n",
              "      <td>0.158530</td>\n",
              "      <td>0.944298</td>\n",
              "      <td>0.949670</td>\n",
              "      <td>0.944298</td>\n",
              "      <td>0.945197</td>\n",
              "      <td>0.932380</td>\n",
              "    </tr>\n",
              "    <tr>\n",
              "      <td>2</td>\n",
              "      <td>0.125000</td>\n",
              "      <td>0.140864</td>\n",
              "      <td>0.944557</td>\n",
              "      <td>0.947479</td>\n",
              "      <td>0.944557</td>\n",
              "      <td>0.944273</td>\n",
              "      <td>0.932410</td>\n",
              "    </tr>\n",
              "  </tbody>\n",
              "</table><p>"
            ],
            "text/plain": [
              "<IPython.core.display.HTML object>"
            ]
          },
          "metadata": {},
          "output_type": "display_data"
        },
        {
          "data": {
            "text/plain": [
              "TrainOutput(global_step=53712, training_loss=0.19073274353256395, metrics={'train_runtime': 8854.9182, 'train_samples_per_second': 48.525, 'train_steps_per_second': 6.066, 'total_flos': 1.0037145534549197e+17, 'train_loss': 0.19073274353256395, 'epoch': 2.0})"
            ]
          },
          "execution_count": 104,
          "metadata": {},
          "output_type": "execute_result"
        }
      ],
      "source": [
        "params['check_point'] = check_points[1]\n",
        "params['modules_to_save'] = ['classifier.bias', 'classifier.weight']\n",
        "train_opt = main(training_args, **params)\n",
        "train_opt.train()"
      ]
    },
    {
      "cell_type": "code",
      "execution_count": null,
      "id": "-kd5OGS2umGX",
      "metadata": {
        "id": "-kd5OGS2umGX"
      },
      "outputs": [],
      "source": [
        "del train_opt\n",
        "torch.cuda.empty_cache()"
      ]
    },
    {
      "cell_type": "markdown",
      "id": "tT5Eku7auy48",
      "metadata": {
        "id": "tT5Eku7auy48"
      },
      "source": [
        "### 5.3 ModernBert"
      ]
    },
    {
      "cell_type": "code",
      "execution_count": null,
      "id": "gUir2dcBuxqR",
      "metadata": {
        "colab": {
          "base_uri": "https://localhost:8080/",
          "height": 412
        },
        "id": "gUir2dcBuxqR",
        "outputId": "8d509107-60b5-4f84-d99d-3d04886fc852"
      },
      "outputs": [
        {
          "name": "stderr",
          "output_type": "stream",
          "text": [
            "Some weights of ModernBertForSequenceClassification were not initialized from the model checkpoint at answerdotai/ModernBERT-base and are newly initialized: ['classifier.bias', 'classifier.weight']\n",
            "You should probably TRAIN this model on a down-stream task to be able to use it for predictions and inference.\n",
            "No label_names provided for model class `PeftModelForSequenceClassification`. Since `PeftModel` hides base models input arguments, if label_names is not given, label_names can't be set automatically within `Trainer`. Note that empty label_names list will be used instead.\n"
          ]
        },
        {
          "name": "stdout",
          "output_type": "stream",
          "text": [
            "\n",
            "------------------------------Training-----------------------------\n",
            "\n",
            "PEFT Modernbert-base Model\n",
            "trainable params: 1,694,214 || all params: 151,303,692 || trainable%: 1.1197\n"
          ]
        },
        {
          "name": "stderr",
          "output_type": "stream",
          "text": [
            "/usr/local/lib/python3.11/dist-packages/torch/_inductor/compile_fx.py:194: UserWarning:\n",
            "\n",
            "TensorFloat32 tensor cores for float32 matrix multiplication available but not enabled. Consider setting `torch.set_float32_matmul_precision('high')` for better performance.\n",
            "\n"
          ]
        },
        {
          "data": {
            "text/html": [
              "\n",
              "    <div>\n",
              "      \n",
              "      <progress value='53712' max='53712' style='width:300px; height:20px; vertical-align: middle;'></progress>\n",
              "      [53712/53712 2:30:55, Epoch 2/2]\n",
              "    </div>\n",
              "    <table border=\"1\" class=\"dataframe\">\n",
              "  <thead>\n",
              " <tr style=\"text-align: left;\">\n",
              "      <th>Epoch</th>\n",
              "      <th>Training Loss</th>\n",
              "      <th>Validation Loss</th>\n",
              "      <th>Accuracy</th>\n",
              "      <th>Precision</th>\n",
              "      <th>Recall</th>\n",
              "      <th>F1</th>\n",
              "      <th>Matthews Correlation</th>\n",
              "    </tr>\n",
              "  </thead>\n",
              "  <tbody>\n",
              "    <tr>\n",
              "      <td>1</td>\n",
              "      <td>0.129900</td>\n",
              "      <td>0.118515</td>\n",
              "      <td>0.945229</td>\n",
              "      <td>0.950781</td>\n",
              "      <td>0.945229</td>\n",
              "      <td>0.946141</td>\n",
              "      <td>0.933550</td>\n",
              "    </tr>\n",
              "    <tr>\n",
              "      <td>2</td>\n",
              "      <td>0.061700</td>\n",
              "      <td>0.113943</td>\n",
              "      <td>0.945901</td>\n",
              "      <td>0.950437</td>\n",
              "      <td>0.945901</td>\n",
              "      <td>0.946538</td>\n",
              "      <td>0.934280</td>\n",
              "    </tr>\n",
              "  </tbody>\n",
              "</table><p>"
            ],
            "text/plain": [
              "<IPython.core.display.HTML object>"
            ]
          },
          "metadata": {},
          "output_type": "display_data"
        },
        {
          "data": {
            "text/plain": [
              "TrainOutput(global_step=53712, training_loss=0.14810486959876915, metrics={'train_runtime': 9068.0348, 'train_samples_per_second': 47.385, 'train_steps_per_second': 5.923, 'total_flos': 3.716562276059674e+16, 'train_loss': 0.14810486959876915, 'epoch': 2.0})"
            ]
          },
          "execution_count": 161,
          "metadata": {},
          "output_type": "execute_result"
        }
      ],
      "source": [
        "params['check_point'] = check_points[1]\n",
        "params['modules_to_save'] = ['classifier.bias', 'classifier.weight']\n",
        "train_mbert = main(training_args, **params)\n",
        "train_mbert.train()"
      ]
    },
    {
      "cell_type": "code",
      "execution_count": null,
      "id": "yyjp9ZsjqSuW",
      "metadata": {
        "id": "yyjp9ZsjqSuW"
      },
      "outputs": [],
      "source": [
        "del train_opt\n",
        "torch.cuda.empty_cache()"
      ]
    },
    {
      "cell_type": "markdown",
      "id": "c22ea909-c88b-4ae8-a7a8-05721f1ede43",
      "metadata": {
        "id": "c22ea909-c88b-4ae8-a7a8-05721f1ede43"
      },
      "source": [
        "## 6.0 Inference"
      ]
    },
    {
      "cell_type": "code",
      "execution_count": null,
      "id": "3Pg8_kWNz17W",
      "metadata": {
        "id": "3Pg8_kWNz17W"
      },
      "outputs": [],
      "source": [
        "from transformers import logging\n",
        "logging.set_verbosity_error()"
      ]
    },
    {
      "cell_type": "code",
      "execution_count": null,
      "id": "jqsnosAk1raq",
      "metadata": {
        "id": "jqsnosAk1raq"
      },
      "outputs": [],
      "source": [
        "path_to_roberta_adapter = \"fine-tuned-lora/peft-roberta-base/checkpoint-53712/\"\n",
        "path_to_opt_adapter = \"fine-tuned-lora/peft-opt-350m/checkpoint-53712/\"\n",
        "path_to_modernbert_adapter = \"fine-tuned-lora/peft-modernbert-base/checkpoint-53712/\""
      ]
    },
    {
      "cell_type": "code",
      "execution_count": null,
      "id": "MLT97Be43wmv",
      "metadata": {
        "id": "MLT97Be43wmv"
      },
      "outputs": [],
      "source": [
        "def inference_dataset(model_name, max_length, text, labels):\n",
        "\n",
        "    tokenizer = build_tokenizer(model_name, max_length)\n",
        "    data_collator = collate_func(tokenizer)\n",
        "    test_dataset = EmotionsDataset(text, labels, tokenizer, max_length)\n",
        "    eval_dataloader = DataLoader(test_dataset, shuffle=False,\n",
        "                             collate_fn=data_collator, batch_size=8)\n",
        "\n",
        "    return eval_dataloader"
      ]
    },
    {
      "cell_type": "markdown",
      "id": "839e71f03fac5687",
      "metadata": {
        "id": "839e71f03fac5687"
      },
      "source": [
        "### 6.1 RoBERTa-LoRA"
      ]
    },
    {
      "cell_type": "code",
      "execution_count": null,
      "id": "Eh8FtqRXqj-L",
      "metadata": {
        "colab": {
          "base_uri": "https://localhost:8080/",
          "height": 227,
          "referenced_widgets": [
            "cccb8c3991ee42a499522b10b0b77f88",
            "7b35e311839e48219706ee7c97b60d76",
            "85a59e7217684953846316b48e387ce8",
            "e67604fcb9ff415180bd9019ef944ec6",
            "df63bfd3a29842ed8361c24f63e97a65",
            "2f9e59dcb1e04ed9a83658d7bf57b6a4",
            "105601f66a624c109c2d51f9df9a3f31",
            "f4473912f159413cafa01c0ba1872720",
            "21eda4562d09490aa0387bc4ea6351d4",
            "0a989042dace4f8382c5b345e18bb930",
            "3981e3324f974cc0bd3f10336606b53b",
            "7fc50428e9554a7fa80137d91254fa50",
            "36f7c3168090463295044b1fda62b31f",
            "12d951fa0ef44c25bd900d27b7392f3a",
            "bbc0635184e64d4a8e0ed70ad842bc89",
            "beef3f7d207048cfbb5639a10445dcbb",
            "ffa9dd6d74da4f1e8e2d0f1dfeaacef4",
            "ed0febe9ab454eb9a06da015b9e41e9b",
            "ebaeaf782cc948f2808f7baafb440a84",
            "1561cd6d25b0415e8e0f5cbb61b19d43",
            "47179b6214eb429fb35f8991f371ce14",
            "605e1c321e2f4333888f894ef31973d0",
            "c16c870cb7ca4a6bba331ed6c451bf94",
            "52ba7aa93f144f158bb627def7c2f273",
            "131d24e0f9fa4f558a824404930683b8",
            "ae7d694fad7a424d8842a5323eb3c1d1",
            "cb6e7cb4fd7e4137899aa0fc9906fff7",
            "d139f2c7fd304107815658761b867294",
            "5220d6b65f97418e8029213aa2a02525",
            "00c1c1ae48724012881a80a70ea8e237",
            "f90bc74dfc034afdaadf426b7354d082",
            "db417eb73d974f1783c33e67acbd2ae8",
            "2605dd8bef2b4608aa1f1192993fb4a8",
            "07d1342a3982413f99acb334d81d0cdd",
            "3b1dbbf024534424874b170fec91bd57",
            "d63075a2fc23433d9b41ee46e323ed02",
            "c2d17cc5588d4ba791e92385074e2dd3",
            "773c70d143174bec87f2d135618103a2",
            "9ea63b333e854895982b958f060a617b",
            "69d2cc4348cd48719493d980d370eb5e",
            "14d3f2f429454b1ab72a641dcf66fb5b",
            "3fbf10872944415696b7c3669571225e",
            "fc813eb4a18043f7bd6cc64471b27824",
            "8ee0e9d071fa469e8c8f74848da0f340",
            "c6aadbe466f642ceb36fd6187d6fdbeb",
            "4ee8a584cbdd4bffb0b5fca7032a6a03",
            "e505a0922e1a4c80aec5ff9c6224d277",
            "f1c915961021457e82ab0374d138a1bd",
            "2b5ee4fe4b3145c6aa08cb23e4cf32ff",
            "bf854cae755a451db660557804a26a52",
            "9e5615e7c3c34156ba7f01f9edc15bf7",
            "4675fdad9d6f45e399de1db814fb2a52",
            "4fa9e6c7d9eb4a958844c2593aa330b2",
            "0f978225a7544996be4a3d02850de4a8",
            "830f7f0460814956afdf7ff200ed290a",
            "0dd7db12f45141039c53a69213a33820",
            "549041be55da434db37aba114c527c06",
            "8475aacd4a1941079b0c1919f4a69e77",
            "87be4cda01e94532afaf79449d2a8b21",
            "8664adcbb11a4614b065fa86a07a9bf6",
            "df8ccfd208cf4a66be2773fea3bbfac2",
            "d7399e0024a840df80c78fb3066955cc",
            "196e64aa59874e718be4e4e22bf2f1e2",
            "f67b62e678bf4f30922137d4df32375e",
            "e614f2c083184ae792b7fdfa0967d72b",
            "3b01e7f99fd741aab7164c699c3f803c"
          ]
        },
        "id": "Eh8FtqRXqj-L",
        "outputId": "a199c4c8-0103-43b5-93e4-c621737f80c0"
      },
      "outputs": [
        {
          "data": {
            "application/vnd.jupyter.widget-view+json": {
              "model_id": "cccb8c3991ee42a499522b10b0b77f88",
              "version_major": 2,
              "version_minor": 0
            },
            "text/plain": [
              "config.json:   0%|          | 0.00/481 [00:00<?, ?B/s]"
            ]
          },
          "metadata": {},
          "output_type": "display_data"
        },
        {
          "data": {
            "application/vnd.jupyter.widget-view+json": {
              "model_id": "7fc50428e9554a7fa80137d91254fa50",
              "version_major": 2,
              "version_minor": 0
            },
            "text/plain": [
              "model.safetensors:   0%|          | 0.00/499M [00:00<?, ?B/s]"
            ]
          },
          "metadata": {},
          "output_type": "display_data"
        },
        {
          "data": {
            "application/vnd.jupyter.widget-view+json": {
              "model_id": "c16c870cb7ca4a6bba331ed6c451bf94",
              "version_major": 2,
              "version_minor": 0
            },
            "text/plain": [
              "tokenizer_config.json:   0%|          | 0.00/25.0 [00:00<?, ?B/s]"
            ]
          },
          "metadata": {},
          "output_type": "display_data"
        },
        {
          "data": {
            "application/vnd.jupyter.widget-view+json": {
              "model_id": "07d1342a3982413f99acb334d81d0cdd",
              "version_major": 2,
              "version_minor": 0
            },
            "text/plain": [
              "vocab.json:   0%|          | 0.00/899k [00:00<?, ?B/s]"
            ]
          },
          "metadata": {},
          "output_type": "display_data"
        },
        {
          "data": {
            "application/vnd.jupyter.widget-view+json": {
              "model_id": "c6aadbe466f642ceb36fd6187d6fdbeb",
              "version_major": 2,
              "version_minor": 0
            },
            "text/plain": [
              "merges.txt:   0%|          | 0.00/456k [00:00<?, ?B/s]"
            ]
          },
          "metadata": {},
          "output_type": "display_data"
        },
        {
          "data": {
            "application/vnd.jupyter.widget-view+json": {
              "model_id": "0dd7db12f45141039c53a69213a33820",
              "version_major": 2,
              "version_minor": 0
            },
            "text/plain": [
              "tokenizer.json:   0%|          | 0.00/1.36M [00:00<?, ?B/s]"
            ]
          },
          "metadata": {},
          "output_type": "display_data"
        },
        {
          "name": "stderr",
          "output_type": "stream",
          "text": [
            "100%|██████████| 2686/2686 [02:23<00:00, 18.74it/s]\n"
          ]
        }
      ],
      "source": [
        "peft_model_id = \"fine-tuned-lora/peft-roberta-base/checkpoint-53712\"\n",
        "\n",
        "inference_model, config = get_lora_model_for_seq_class(peft_model_id, num_labels=params['num_labels'],\n",
        "                                          label2id=params['label2id'], id2label=params['id2label'])\n",
        "\n",
        "model_name = config.base_model_name_or_path\n",
        "test_dataloader = inference_dataset(model_name, max_length=params['max_length'],\n",
        "                                            text=X_test, labels=y_test)\n",
        "\n",
        "rpeft_result, r_pred = predict(inference_model, test_dataloader, model_name, device=device)\n"
      ]
    },
    {
      "cell_type": "code",
      "execution_count": null,
      "id": "fu56Ux_o1GVf",
      "metadata": {
        "colab": {
          "base_uri": "https://localhost:8080/",
          "height": 89
        },
        "id": "fu56Ux_o1GVf",
        "outputId": "6cd98207-c131-4bc6-e809-5f6b9e7aab17"
      },
      "outputs": [
        {
          "data": {
            "application/vnd.google.colaboratory.intrinsic+json": {
              "summary": "{\n  \"name\": \"rpeft_result\",\n  \"rows\": 1,\n  \"fields\": [\n    {\n      \"column\": \"model_name\",\n      \"properties\": {\n        \"dtype\": \"string\",\n        \"num_unique_values\": 1,\n        \"samples\": [\n          \"roberta-base\"\n        ],\n        \"semantic_type\": \"\",\n        \"description\": \"\"\n      }\n    },\n    {\n      \"column\": \"accuracy\",\n      \"properties\": {\n        \"dtype\": \"number\",\n        \"std\": null,\n        \"min\": 0.9443797998603677,\n        \"max\": 0.9443797998603677,\n        \"num_unique_values\": 1,\n        \"samples\": [\n          0.9443797998603677\n        ],\n        \"semantic_type\": \"\",\n        \"description\": \"\"\n      }\n    },\n    {\n      \"column\": \"precision\",\n      \"properties\": {\n        \"dtype\": \"number\",\n        \"std\": null,\n        \"min\": 0.949431111983824,\n        \"max\": 0.949431111983824,\n        \"num_unique_values\": 1,\n        \"samples\": [\n          0.949431111983824\n        ],\n        \"semantic_type\": \"\",\n        \"description\": \"\"\n      }\n    },\n    {\n      \"column\": \"recall\",\n      \"properties\": {\n        \"dtype\": \"number\",\n        \"std\": null,\n        \"min\": 0.9443797998603677,\n        \"max\": 0.9443797998603677,\n        \"num_unique_values\": 1,\n        \"samples\": [\n          0.9443797998603677\n        ],\n        \"semantic_type\": \"\",\n        \"description\": \"\"\n      }\n    },\n    {\n      \"column\": \"f1\",\n      \"properties\": {\n        \"dtype\": \"number\",\n        \"std\": null,\n        \"min\": 0.9450505799242496,\n        \"max\": 0.9450505799242496,\n        \"num_unique_values\": 1,\n        \"samples\": [\n          0.9450505799242496\n        ],\n        \"semantic_type\": \"\",\n        \"description\": \"\"\n      }\n    },\n    {\n      \"column\": \"matthews_correlation\",\n      \"properties\": {\n        \"dtype\": \"number\",\n        \"std\": null,\n        \"min\": 0.9324779727442987,\n        \"max\": 0.9324779727442987,\n        \"num_unique_values\": 1,\n        \"samples\": [\n          0.9324779727442987\n        ],\n        \"semantic_type\": \"\",\n        \"description\": \"\"\n      }\n    }\n  ]\n}",
              "type": "dataframe",
              "variable_name": "rpeft_result"
            },
            "text/html": [
              "\n",
              "  <div id=\"df-fc7e67b0-775f-4f49-8a0a-d2ce16f71177\" class=\"colab-df-container\">\n",
              "    <div>\n",
              "<style scoped>\n",
              "    .dataframe tbody tr th:only-of-type {\n",
              "        vertical-align: middle;\n",
              "    }\n",
              "\n",
              "    .dataframe tbody tr th {\n",
              "        vertical-align: top;\n",
              "    }\n",
              "\n",
              "    .dataframe thead th {\n",
              "        text-align: right;\n",
              "    }\n",
              "</style>\n",
              "<table border=\"1\" class=\"dataframe\">\n",
              "  <thead>\n",
              "    <tr style=\"text-align: right;\">\n",
              "      <th></th>\n",
              "      <th>model_name</th>\n",
              "      <th>accuracy</th>\n",
              "      <th>precision</th>\n",
              "      <th>recall</th>\n",
              "      <th>f1</th>\n",
              "      <th>matthews_correlation</th>\n",
              "    </tr>\n",
              "  </thead>\n",
              "  <tbody>\n",
              "    <tr>\n",
              "      <th>0</th>\n",
              "      <td>roberta-base</td>\n",
              "      <td>0.94438</td>\n",
              "      <td>0.949431</td>\n",
              "      <td>0.94438</td>\n",
              "      <td>0.945051</td>\n",
              "      <td>0.932478</td>\n",
              "    </tr>\n",
              "  </tbody>\n",
              "</table>\n",
              "</div>\n",
              "    <div class=\"colab-df-buttons\">\n",
              "\n",
              "  <div class=\"colab-df-container\">\n",
              "    <button class=\"colab-df-convert\" onclick=\"convertToInteractive('df-fc7e67b0-775f-4f49-8a0a-d2ce16f71177')\"\n",
              "            title=\"Convert this dataframe to an interactive table.\"\n",
              "            style=\"display:none;\">\n",
              "\n",
              "  <svg xmlns=\"http://www.w3.org/2000/svg\" height=\"24px\" viewBox=\"0 -960 960 960\">\n",
              "    <path d=\"M120-120v-720h720v720H120Zm60-500h600v-160H180v160Zm220 220h160v-160H400v160Zm0 220h160v-160H400v160ZM180-400h160v-160H180v160Zm440 0h160v-160H620v160ZM180-180h160v-160H180v160Zm440 0h160v-160H620v160Z\"/>\n",
              "  </svg>\n",
              "    </button>\n",
              "\n",
              "  <style>\n",
              "    .colab-df-container {\n",
              "      display:flex;\n",
              "      gap: 12px;\n",
              "    }\n",
              "\n",
              "    .colab-df-convert {\n",
              "      background-color: #E8F0FE;\n",
              "      border: none;\n",
              "      border-radius: 50%;\n",
              "      cursor: pointer;\n",
              "      display: none;\n",
              "      fill: #1967D2;\n",
              "      height: 32px;\n",
              "      padding: 0 0 0 0;\n",
              "      width: 32px;\n",
              "    }\n",
              "\n",
              "    .colab-df-convert:hover {\n",
              "      background-color: #E2EBFA;\n",
              "      box-shadow: 0px 1px 2px rgba(60, 64, 67, 0.3), 0px 1px 3px 1px rgba(60, 64, 67, 0.15);\n",
              "      fill: #174EA6;\n",
              "    }\n",
              "\n",
              "    .colab-df-buttons div {\n",
              "      margin-bottom: 4px;\n",
              "    }\n",
              "\n",
              "    [theme=dark] .colab-df-convert {\n",
              "      background-color: #3B4455;\n",
              "      fill: #D2E3FC;\n",
              "    }\n",
              "\n",
              "    [theme=dark] .colab-df-convert:hover {\n",
              "      background-color: #434B5C;\n",
              "      box-shadow: 0px 1px 3px 1px rgba(0, 0, 0, 0.15);\n",
              "      filter: drop-shadow(0px 1px 2px rgba(0, 0, 0, 0.3));\n",
              "      fill: #FFFFFF;\n",
              "    }\n",
              "  </style>\n",
              "\n",
              "    <script>\n",
              "      const buttonEl =\n",
              "        document.querySelector('#df-fc7e67b0-775f-4f49-8a0a-d2ce16f71177 button.colab-df-convert');\n",
              "      buttonEl.style.display =\n",
              "        google.colab.kernel.accessAllowed ? 'block' : 'none';\n",
              "\n",
              "      async function convertToInteractive(key) {\n",
              "        const element = document.querySelector('#df-fc7e67b0-775f-4f49-8a0a-d2ce16f71177');\n",
              "        const dataTable =\n",
              "          await google.colab.kernel.invokeFunction('convertToInteractive',\n",
              "                                                    [key], {});\n",
              "        if (!dataTable) return;\n",
              "\n",
              "        const docLinkHtml = 'Like what you see? Visit the ' +\n",
              "          '<a target=\"_blank\" href=https://colab.research.google.com/notebooks/data_table.ipynb>data table notebook</a>'\n",
              "          + ' to learn more about interactive tables.';\n",
              "        element.innerHTML = '';\n",
              "        dataTable['output_type'] = 'display_data';\n",
              "        await google.colab.output.renderOutput(dataTable, element);\n",
              "        const docLink = document.createElement('div');\n",
              "        docLink.innerHTML = docLinkHtml;\n",
              "        element.appendChild(docLink);\n",
              "      }\n",
              "    </script>\n",
              "  </div>\n",
              "\n",
              "\n",
              "  <div id=\"id_084914f9-480c-4fa3-bc32-210ee0e9f2b6\">\n",
              "    <style>\n",
              "      .colab-df-generate {\n",
              "        background-color: #E8F0FE;\n",
              "        border: none;\n",
              "        border-radius: 50%;\n",
              "        cursor: pointer;\n",
              "        display: none;\n",
              "        fill: #1967D2;\n",
              "        height: 32px;\n",
              "        padding: 0 0 0 0;\n",
              "        width: 32px;\n",
              "      }\n",
              "\n",
              "      .colab-df-generate:hover {\n",
              "        background-color: #E2EBFA;\n",
              "        box-shadow: 0px 1px 2px rgba(60, 64, 67, 0.3), 0px 1px 3px 1px rgba(60, 64, 67, 0.15);\n",
              "        fill: #174EA6;\n",
              "      }\n",
              "\n",
              "      [theme=dark] .colab-df-generate {\n",
              "        background-color: #3B4455;\n",
              "        fill: #D2E3FC;\n",
              "      }\n",
              "\n",
              "      [theme=dark] .colab-df-generate:hover {\n",
              "        background-color: #434B5C;\n",
              "        box-shadow: 0px 1px 3px 1px rgba(0, 0, 0, 0.15);\n",
              "        filter: drop-shadow(0px 1px 2px rgba(0, 0, 0, 0.3));\n",
              "        fill: #FFFFFF;\n",
              "      }\n",
              "    </style>\n",
              "    <button class=\"colab-df-generate\" onclick=\"generateWithVariable('rpeft_result')\"\n",
              "            title=\"Generate code using this dataframe.\"\n",
              "            style=\"display:none;\">\n",
              "\n",
              "  <svg xmlns=\"http://www.w3.org/2000/svg\" height=\"24px\"viewBox=\"0 0 24 24\"\n",
              "       width=\"24px\">\n",
              "    <path d=\"M7,19H8.4L18.45,9,17,7.55,7,17.6ZM5,21V16.75L18.45,3.32a2,2,0,0,1,2.83,0l1.4,1.43a1.91,1.91,0,0,1,.58,1.4,1.91,1.91,0,0,1-.58,1.4L9.25,21ZM18.45,9,17,7.55Zm-12,3A5.31,5.31,0,0,0,4.9,8.1,5.31,5.31,0,0,0,1,6.5,5.31,5.31,0,0,0,4.9,4.9,5.31,5.31,0,0,0,6.5,1,5.31,5.31,0,0,0,8.1,4.9,5.31,5.31,0,0,0,12,6.5,5.46,5.46,0,0,0,6.5,12Z\"/>\n",
              "  </svg>\n",
              "    </button>\n",
              "    <script>\n",
              "      (() => {\n",
              "      const buttonEl =\n",
              "        document.querySelector('#id_084914f9-480c-4fa3-bc32-210ee0e9f2b6 button.colab-df-generate');\n",
              "      buttonEl.style.display =\n",
              "        google.colab.kernel.accessAllowed ? 'block' : 'none';\n",
              "\n",
              "      buttonEl.onclick = () => {\n",
              "        google.colab.notebook.generateWithVariable('rpeft_result');\n",
              "      }\n",
              "      })();\n",
              "    </script>\n",
              "  </div>\n",
              "\n",
              "    </div>\n",
              "  </div>\n"
            ],
            "text/plain": [
              "     model_name  accuracy  precision   recall        f1  matthews_correlation\n",
              "0  roberta-base   0.94438   0.949431  0.94438  0.945051              0.932478"
            ]
          },
          "execution_count": 31,
          "metadata": {},
          "output_type": "execute_result"
        }
      ],
      "source": [
        "rpeft_result"
      ]
    },
    {
      "cell_type": "markdown",
      "id": "c285d52efff855b3",
      "metadata": {
        "id": "c285d52efff855b3"
      },
      "source": [
        "### 6.2 Opt-350m-LoRA"
      ]
    },
    {
      "cell_type": "code",
      "execution_count": null,
      "id": "AjyhTnspzC07",
      "metadata": {
        "colab": {
          "base_uri": "https://localhost:8080/",
          "height": 259,
          "referenced_widgets": [
            "45a56ed9902244eebfe479cdb6d7b5d7",
            "561dd827c5b24c5c90373f0929e7857e",
            "b6997844b386417dbe9ef3a476279981",
            "2a1bbfe3358a4598bda71a4581a2d086",
            "d909e79e8dc5495fa3fcfe36d36303a3",
            "c18bf3dafce24e25bf531f0d8d6e926f",
            "0856db72849548789715b9d5193c4478",
            "9a0de7186e9447f18d2b79b15e12345a",
            "1eb1c3f38cf04e11b8d171537d7b6a09",
            "74f6c57f91c54c5aa9b48568da706a10",
            "0a373a2be63c40dfa43a358065246984",
            "24423a7534f0458ca1c01bf7358811ef",
            "1083b1abaa084293a6474f760572c360",
            "e5c65ea4cc354dcfa622c50c3faa1ef0",
            "fe558fae13444b429c4f43388b77a12d",
            "0ec7cf4393794f5b8c1bbca99ecfd576",
            "76b95ec951074f4aa496717f3c1541a4",
            "d07439df6f674878914410db11a0ce08",
            "f22b6b0718c44bfabcdfff27757068f9",
            "931b21b35084417a92a24f2a1914a145",
            "e8b249c9f977414c8f53740a29c08084",
            "6323404cfd8149559921f4cfad4b2005",
            "59660875d8234f00aed2ca2011e6766e",
            "f2eeedf8210d49459b3b0e2ce7a61156",
            "41d3bea28e9540228b82031ca3c221a1",
            "3dac6227f94a4b009b516b153fe1aad0",
            "df804a8dac0a4d9dbb2b972597df422c",
            "2021915c3c764f60b307e2906e75dc78",
            "b481e93daa2f4c02b77d3228d3eb6fb2",
            "db7c73d070884a198a2e1fc5025b3eb6",
            "61856ead48954559af10a75c19d3ed1b",
            "9735d5d3706044a2951e4ef2a23cf854",
            "12c3edae35014e1981ac49f77314958a",
            "13d108792a8841fe93e01713cf1cb2ac",
            "1260f2ac6d1d4de8a23a758167fe50d6",
            "6a4a8a94492c4fdaa78b714b5277d111",
            "5cc2e2fef9f8477cbfeeaca8bfdc4511",
            "f8f8b40746fa4d7a97f661de1c18c3c7",
            "5c0d7e53604a4d409ea1997d1b1c6311",
            "80219fc16dd1494e99da4cfdafad1394",
            "5b131538e94f4916b022dd37ffc3d024",
            "196d54da2c954ccc808045cfd8d2e518",
            "fa4bf809ccae468ebcbd4fab53ff7f23",
            "ad8ec77a64f04082bbdbd8ee3354b7cb",
            "e881b8f7f7b944df9176a3c138fda4e3",
            "84cdd834352648849d3eef5fec11500b",
            "4e5ee7c7c35d4789bd4af520ac5c445a",
            "6cdd82c48b1d498caec7d6d540a0ebcb",
            "00df634f1edb424c9cf6a8d09f91def3",
            "4d4c36269d4d4fafaeb4abb3b99713e8",
            "b21cf865a65f4b8eba38fdf84c5eb033",
            "3ae3a84a994c47cd87293dc3db153534",
            "5b83c0eeb09447b8829f6e238ae912b0",
            "a6e78ab668784a8cb68a1684c105a458",
            "95b07ce68cde487faecae4c84f7800df",
            "0dd94a4a17ed492b9f5c56fe2872c424",
            "72c6c014ec32427096884800212bfa87",
            "a7e56f16eb114850bab30446938eed30",
            "9fdfae81044e4f85b1c2e9af04b00cb9",
            "667129f2525a4d718c9f067dad5febf0",
            "6284403a4e5144b3bb3781ad30577b1c",
            "a79cd04c03944c1685bbf015ee580c7f",
            "c5caa746e8e3452e929fd5759bc540a1",
            "c80cc8da87c4492ebe305bcdb399dcb5",
            "b8595a8d2cf94b67b63c87214f7b6fd9",
            "fae52bdb314c4a20beaadeef148df46b",
            "bd034ffbbc68455eb308002e533a01c9",
            "a7bc6facd0bc4a3e989d8f27b79333b1",
            "3cc323599ab2439dacc66b9bb9a0ded3",
            "dc28a70b815645c09c38ff2c2684a4f0",
            "4527e786416b4840b69f326c80ac0dbd",
            "daa19cf880ad45bf9eb92a8d67c0e9c2",
            "e31d99828f8549eaa5eec2bac4a8e9e1",
            "a8de301f7a0a482195104fbbcc3edf12",
            "26ed26c08eca438ab5ae78a0eda1ac90",
            "e73fd09f22a746469ce2242a975b029d",
            "d3a8062fde0c47fdae0043eb190ae9e0"
          ]
        },
        "id": "AjyhTnspzC07",
        "outputId": "0c1f0bc1-a199-4eee-db4b-dacffcde9a71"
      },
      "outputs": [
        {
          "data": {
            "application/vnd.jupyter.widget-view+json": {
              "model_id": "45a56ed9902244eebfe479cdb6d7b5d7",
              "version_major": 2,
              "version_minor": 0
            },
            "text/plain": [
              "config.json:   0%|          | 0.00/644 [00:00<?, ?B/s]"
            ]
          },
          "metadata": {},
          "output_type": "display_data"
        },
        {
          "data": {
            "application/vnd.jupyter.widget-view+json": {
              "model_id": "24423a7534f0458ca1c01bf7358811ef",
              "version_major": 2,
              "version_minor": 0
            },
            "text/plain": [
              "pytorch_model.bin:   0%|          | 0.00/663M [00:00<?, ?B/s]"
            ]
          },
          "metadata": {},
          "output_type": "display_data"
        },
        {
          "data": {
            "application/vnd.jupyter.widget-view+json": {
              "model_id": "59660875d8234f00aed2ca2011e6766e",
              "version_major": 2,
              "version_minor": 0
            },
            "text/plain": [
              "tokenizer_config.json:   0%|          | 0.00/685 [00:00<?, ?B/s]"
            ]
          },
          "metadata": {},
          "output_type": "display_data"
        },
        {
          "data": {
            "application/vnd.jupyter.widget-view+json": {
              "model_id": "13d108792a8841fe93e01713cf1cb2ac",
              "version_major": 2,
              "version_minor": 0
            },
            "text/plain": [
              "model.safetensors:   0%|          | 0.00/662M [00:00<?, ?B/s]"
            ]
          },
          "metadata": {},
          "output_type": "display_data"
        },
        {
          "data": {
            "application/vnd.jupyter.widget-view+json": {
              "model_id": "e881b8f7f7b944df9176a3c138fda4e3",
              "version_major": 2,
              "version_minor": 0
            },
            "text/plain": [
              "vocab.json: 0.00B [00:00, ?B/s]"
            ]
          },
          "metadata": {},
          "output_type": "display_data"
        },
        {
          "data": {
            "application/vnd.jupyter.widget-view+json": {
              "model_id": "0dd94a4a17ed492b9f5c56fe2872c424",
              "version_major": 2,
              "version_minor": 0
            },
            "text/plain": [
              "merges.txt: 0.00B [00:00, ?B/s]"
            ]
          },
          "metadata": {},
          "output_type": "display_data"
        },
        {
          "data": {
            "application/vnd.jupyter.widget-view+json": {
              "model_id": "bd034ffbbc68455eb308002e533a01c9",
              "version_major": 2,
              "version_minor": 0
            },
            "text/plain": [
              "special_tokens_map.json:   0%|          | 0.00/441 [00:00<?, ?B/s]"
            ]
          },
          "metadata": {},
          "output_type": "display_data"
        },
        {
          "name": "stderr",
          "output_type": "stream",
          "text": [
            "100%|██████████| 2686/2686 [07:53<00:00,  5.68it/s]\n"
          ]
        }
      ],
      "source": [
        "peft_model_id = \"fine-tuned-lora/peft-opt-350m/checkpoint-53712\"\n",
        "\n",
        "inference_model, config = get_lora_model_for_seq_class(peft_model_id, num_labels=params['num_labels'],\n",
        "                                          label2id=params['label2id'], id2label=params['id2label'])\n",
        "\n",
        "model_name = config.base_model_name_or_path\n",
        "test_dataloader = inference_dataset(model_name, max_length=params['max_length'],\n",
        "                                            text=X_test, labels=y_test)\n",
        "\n",
        "optpeft_result, opt_pred = predict(inference_model, test_dataloader, model_name, device=device)"
      ]
    },
    {
      "cell_type": "code",
      "execution_count": null,
      "id": "_ruji6rj1P0s",
      "metadata": {
        "colab": {
          "base_uri": "https://localhost:8080/",
          "height": 89
        },
        "id": "_ruji6rj1P0s",
        "outputId": "08877c20-1daf-4aa4-83dd-1886f5a0f633"
      },
      "outputs": [
        {
          "data": {
            "application/vnd.google.colaboratory.intrinsic+json": {
              "summary": "{\n  \"name\": \"optpeft_result\",\n  \"rows\": 1,\n  \"fields\": [\n    {\n      \"column\": \"model_name\",\n      \"properties\": {\n        \"dtype\": \"string\",\n        \"num_unique_values\": 1,\n        \"samples\": [\n          \"facebook/opt-350m\"\n        ],\n        \"semantic_type\": \"\",\n        \"description\": \"\"\n      }\n    },\n    {\n      \"column\": \"accuracy\",\n      \"properties\": {\n        \"dtype\": \"number\",\n        \"std\": null,\n        \"min\": 0.9470793576914126,\n        \"max\": 0.9470793576914126,\n        \"num_unique_values\": 1,\n        \"samples\": [\n          0.9470793576914126\n        ],\n        \"semantic_type\": \"\",\n        \"description\": \"\"\n      }\n    },\n    {\n      \"column\": \"precision\",\n      \"properties\": {\n        \"dtype\": \"number\",\n        \"std\": null,\n        \"min\": 0.9495738027012963,\n        \"max\": 0.9495738027012963,\n        \"num_unique_values\": 1,\n        \"samples\": [\n          0.9495738027012963\n        ],\n        \"semantic_type\": \"\",\n        \"description\": \"\"\n      }\n    },\n    {\n      \"column\": \"recall\",\n      \"properties\": {\n        \"dtype\": \"number\",\n        \"std\": null,\n        \"min\": 0.9470793576914126,\n        \"max\": 0.9470793576914126,\n        \"num_unique_values\": 1,\n        \"samples\": [\n          0.9470793576914126\n        ],\n        \"semantic_type\": \"\",\n        \"description\": \"\"\n      }\n    },\n    {\n      \"column\": \"f1\",\n      \"properties\": {\n        \"dtype\": \"number\",\n        \"std\": null,\n        \"min\": 0.9466986371994981,\n        \"max\": 0.9466986371994981,\n        \"num_unique_values\": 1,\n        \"samples\": [\n          0.9466986371994981\n        ],\n        \"semantic_type\": \"\",\n        \"description\": \"\"\n      }\n    },\n    {\n      \"column\": \"matthews_correlation\",\n      \"properties\": {\n        \"dtype\": \"number\",\n        \"std\": null,\n        \"min\": 0.9354498350057114,\n        \"max\": 0.9354498350057114,\n        \"num_unique_values\": 1,\n        \"samples\": [\n          0.9354498350057114\n        ],\n        \"semantic_type\": \"\",\n        \"description\": \"\"\n      }\n    }\n  ]\n}",
              "type": "dataframe",
              "variable_name": "optpeft_result"
            },
            "text/html": [
              "\n",
              "  <div id=\"df-002bcc0f-d8b1-41b8-88b6-1dda8a4f405e\" class=\"colab-df-container\">\n",
              "    <div>\n",
              "<style scoped>\n",
              "    .dataframe tbody tr th:only-of-type {\n",
              "        vertical-align: middle;\n",
              "    }\n",
              "\n",
              "    .dataframe tbody tr th {\n",
              "        vertical-align: top;\n",
              "    }\n",
              "\n",
              "    .dataframe thead th {\n",
              "        text-align: right;\n",
              "    }\n",
              "</style>\n",
              "<table border=\"1\" class=\"dataframe\">\n",
              "  <thead>\n",
              "    <tr style=\"text-align: right;\">\n",
              "      <th></th>\n",
              "      <th>model_name</th>\n",
              "      <th>accuracy</th>\n",
              "      <th>precision</th>\n",
              "      <th>recall</th>\n",
              "      <th>f1</th>\n",
              "      <th>matthews_correlation</th>\n",
              "    </tr>\n",
              "  </thead>\n",
              "  <tbody>\n",
              "    <tr>\n",
              "      <th>0</th>\n",
              "      <td>facebook/opt-350m</td>\n",
              "      <td>0.947079</td>\n",
              "      <td>0.949574</td>\n",
              "      <td>0.947079</td>\n",
              "      <td>0.946699</td>\n",
              "      <td>0.93545</td>\n",
              "    </tr>\n",
              "  </tbody>\n",
              "</table>\n",
              "</div>\n",
              "    <div class=\"colab-df-buttons\">\n",
              "\n",
              "  <div class=\"colab-df-container\">\n",
              "    <button class=\"colab-df-convert\" onclick=\"convertToInteractive('df-002bcc0f-d8b1-41b8-88b6-1dda8a4f405e')\"\n",
              "            title=\"Convert this dataframe to an interactive table.\"\n",
              "            style=\"display:none;\">\n",
              "\n",
              "  <svg xmlns=\"http://www.w3.org/2000/svg\" height=\"24px\" viewBox=\"0 -960 960 960\">\n",
              "    <path d=\"M120-120v-720h720v720H120Zm60-500h600v-160H180v160Zm220 220h160v-160H400v160Zm0 220h160v-160H400v160ZM180-400h160v-160H180v160Zm440 0h160v-160H620v160ZM180-180h160v-160H180v160Zm440 0h160v-160H620v160Z\"/>\n",
              "  </svg>\n",
              "    </button>\n",
              "\n",
              "  <style>\n",
              "    .colab-df-container {\n",
              "      display:flex;\n",
              "      gap: 12px;\n",
              "    }\n",
              "\n",
              "    .colab-df-convert {\n",
              "      background-color: #E8F0FE;\n",
              "      border: none;\n",
              "      border-radius: 50%;\n",
              "      cursor: pointer;\n",
              "      display: none;\n",
              "      fill: #1967D2;\n",
              "      height: 32px;\n",
              "      padding: 0 0 0 0;\n",
              "      width: 32px;\n",
              "    }\n",
              "\n",
              "    .colab-df-convert:hover {\n",
              "      background-color: #E2EBFA;\n",
              "      box-shadow: 0px 1px 2px rgba(60, 64, 67, 0.3), 0px 1px 3px 1px rgba(60, 64, 67, 0.15);\n",
              "      fill: #174EA6;\n",
              "    }\n",
              "\n",
              "    .colab-df-buttons div {\n",
              "      margin-bottom: 4px;\n",
              "    }\n",
              "\n",
              "    [theme=dark] .colab-df-convert {\n",
              "      background-color: #3B4455;\n",
              "      fill: #D2E3FC;\n",
              "    }\n",
              "\n",
              "    [theme=dark] .colab-df-convert:hover {\n",
              "      background-color: #434B5C;\n",
              "      box-shadow: 0px 1px 3px 1px rgba(0, 0, 0, 0.15);\n",
              "      filter: drop-shadow(0px 1px 2px rgba(0, 0, 0, 0.3));\n",
              "      fill: #FFFFFF;\n",
              "    }\n",
              "  </style>\n",
              "\n",
              "    <script>\n",
              "      const buttonEl =\n",
              "        document.querySelector('#df-002bcc0f-d8b1-41b8-88b6-1dda8a4f405e button.colab-df-convert');\n",
              "      buttonEl.style.display =\n",
              "        google.colab.kernel.accessAllowed ? 'block' : 'none';\n",
              "\n",
              "      async function convertToInteractive(key) {\n",
              "        const element = document.querySelector('#df-002bcc0f-d8b1-41b8-88b6-1dda8a4f405e');\n",
              "        const dataTable =\n",
              "          await google.colab.kernel.invokeFunction('convertToInteractive',\n",
              "                                                    [key], {});\n",
              "        if (!dataTable) return;\n",
              "\n",
              "        const docLinkHtml = 'Like what you see? Visit the ' +\n",
              "          '<a target=\"_blank\" href=https://colab.research.google.com/notebooks/data_table.ipynb>data table notebook</a>'\n",
              "          + ' to learn more about interactive tables.';\n",
              "        element.innerHTML = '';\n",
              "        dataTable['output_type'] = 'display_data';\n",
              "        await google.colab.output.renderOutput(dataTable, element);\n",
              "        const docLink = document.createElement('div');\n",
              "        docLink.innerHTML = docLinkHtml;\n",
              "        element.appendChild(docLink);\n",
              "      }\n",
              "    </script>\n",
              "  </div>\n",
              "\n",
              "\n",
              "  <div id=\"id_50ef8c77-65d9-473e-a1eb-a6db73d455f7\">\n",
              "    <style>\n",
              "      .colab-df-generate {\n",
              "        background-color: #E8F0FE;\n",
              "        border: none;\n",
              "        border-radius: 50%;\n",
              "        cursor: pointer;\n",
              "        display: none;\n",
              "        fill: #1967D2;\n",
              "        height: 32px;\n",
              "        padding: 0 0 0 0;\n",
              "        width: 32px;\n",
              "      }\n",
              "\n",
              "      .colab-df-generate:hover {\n",
              "        background-color: #E2EBFA;\n",
              "        box-shadow: 0px 1px 2px rgba(60, 64, 67, 0.3), 0px 1px 3px 1px rgba(60, 64, 67, 0.15);\n",
              "        fill: #174EA6;\n",
              "      }\n",
              "\n",
              "      [theme=dark] .colab-df-generate {\n",
              "        background-color: #3B4455;\n",
              "        fill: #D2E3FC;\n",
              "      }\n",
              "\n",
              "      [theme=dark] .colab-df-generate:hover {\n",
              "        background-color: #434B5C;\n",
              "        box-shadow: 0px 1px 3px 1px rgba(0, 0, 0, 0.15);\n",
              "        filter: drop-shadow(0px 1px 2px rgba(0, 0, 0, 0.3));\n",
              "        fill: #FFFFFF;\n",
              "      }\n",
              "    </style>\n",
              "    <button class=\"colab-df-generate\" onclick=\"generateWithVariable('optpeft_result')\"\n",
              "            title=\"Generate code using this dataframe.\"\n",
              "            style=\"display:none;\">\n",
              "\n",
              "  <svg xmlns=\"http://www.w3.org/2000/svg\" height=\"24px\"viewBox=\"0 0 24 24\"\n",
              "       width=\"24px\">\n",
              "    <path d=\"M7,19H8.4L18.45,9,17,7.55,7,17.6ZM5,21V16.75L18.45,3.32a2,2,0,0,1,2.83,0l1.4,1.43a1.91,1.91,0,0,1,.58,1.4,1.91,1.91,0,0,1-.58,1.4L9.25,21ZM18.45,9,17,7.55Zm-12,3A5.31,5.31,0,0,0,4.9,8.1,5.31,5.31,0,0,0,1,6.5,5.31,5.31,0,0,0,4.9,4.9,5.31,5.31,0,0,0,6.5,1,5.31,5.31,0,0,0,8.1,4.9,5.31,5.31,0,0,0,12,6.5,5.46,5.46,0,0,0,6.5,12Z\"/>\n",
              "  </svg>\n",
              "    </button>\n",
              "    <script>\n",
              "      (() => {\n",
              "      const buttonEl =\n",
              "        document.querySelector('#id_50ef8c77-65d9-473e-a1eb-a6db73d455f7 button.colab-df-generate');\n",
              "      buttonEl.style.display =\n",
              "        google.colab.kernel.accessAllowed ? 'block' : 'none';\n",
              "\n",
              "      buttonEl.onclick = () => {\n",
              "        google.colab.notebook.generateWithVariable('optpeft_result');\n",
              "      }\n",
              "      })();\n",
              "    </script>\n",
              "  </div>\n",
              "\n",
              "    </div>\n",
              "  </div>\n"
            ],
            "text/plain": [
              "          model_name  accuracy  precision    recall        f1  \\\n",
              "0  facebook/opt-350m  0.947079   0.949574  0.947079  0.946699   \n",
              "\n",
              "   matthews_correlation  \n",
              "0               0.93545  "
            ]
          },
          "execution_count": 33,
          "metadata": {},
          "output_type": "execute_result"
        }
      ],
      "source": [
        "optpeft_result"
      ]
    },
    {
      "cell_type": "markdown",
      "id": "64a9028a2efdf6c",
      "metadata": {
        "id": "64a9028a2efdf6c"
      },
      "source": [
        "### 6.3 ModernBERT-LoRA"
      ]
    },
    {
      "cell_type": "code",
      "execution_count": null,
      "id": "xVgizjsbJUB2",
      "metadata": {
        "colab": {
          "base_uri": "https://localhost:8080/",
          "height": 539,
          "referenced_widgets": [
            "92ef72819bfe4e1fa0f1418881458550",
            "ae60199234474583bb8bbee84c101b7d",
            "5e2e4161629d47bfa7ebb54f3d2d5c7b",
            "aa76082f91a14a4a95185dfcf3f36449",
            "bc341f5454014407a81ca2c87d08367d",
            "8c10bffc46c547f0adec55478fd40178",
            "38f1647800534eb48f0389f6c2a35034",
            "052df80dcb424b70927a7654d8a9661b",
            "ec9b4efcc5234f2aaa99c4b743af774b",
            "5926228cdbcc4520bf9a6ce719c5c2c8",
            "9a2acb9d93064a618018db42495c6340",
            "b2fb0001d4684be881b303284d4a6e9e",
            "4989835ce4b849d98f8c549648a47aa6",
            "81df8f2bf1c74b43aabfc58902c53c61",
            "06f67a944ae94198b259efaca2ad360f",
            "bdf9602e5d12477e80aa46ebf158fe9e",
            "733356924f084c53b40088d6111d06f0",
            "9a435926907c4b8b9f9e0ddd1de83899",
            "57d96f1aa20e451eaaf6ddf2d8ea5469",
            "7362b7906269408a99edcc3624c137c6",
            "87c793cedd0942c5a3ca04fbadfcea54",
            "177600c966a3460cbab93529e61858c7",
            "40741620f4e94e56a49008f892866fb9",
            "37531c64bb6341d7809a686c417f61d3",
            "a2513609f0764e34b909559eeedb1f3d",
            "daf5c76d87544d1ab37e9e644d065c7f",
            "b1e848699ff846a09d1d3263af8093ae",
            "36e7486a38f34313b60171b9375b4a8c",
            "3c19b84c4a4f48fc8302cf73df43ec54",
            "77f6eb76aa4c44488c1644db03465fef",
            "12a6b4e25a7949dd9f21a855eeb4d8aa",
            "79a8cf48398a4647be39969abbc27788",
            "216068f6b5314e79a4c69249f3ada3a4",
            "c48cce7299684c1581fe3f08c9823e2a",
            "f4d69c9d1fcf40ab95bb3a4c186c61cf",
            "3434e00d74344e558703a6bd9e4f5376",
            "1039c0e3255c439eb0ac7c00b49a26d5",
            "8bc698dfdb7b49d8b91493c1934e2e87",
            "169baa8f879841e0b0a861dce6359305",
            "37956d1b27004c8cbbd731026d10a8ee",
            "0dab8e8504384afcb1bbb153d3dbe993",
            "2c27639f0d0f41c0945dd0b03f67186e",
            "81fa2ef4e38a4890899e69b14aecfbf8",
            "05d0efe8c4d845b181a4688afc407cd6",
            "39ad502aa819450d8370782c611dfa3b",
            "d315fb2d5b65471db7f08ea6f5e41961",
            "37ef545ad3c9423bbd2acb2e19e66e30",
            "7b2eeb7c72d643e7b28a7bd7c5502ec4",
            "56d5e04ee7ca456c8ebf7fab691b729f",
            "c0ff32f1191c4dd9a414d0599d7475e1",
            "40d5857db15a4e17aedff1b0392e09bc",
            "4f61ae70ff604eb3a1860f9cb95b5b0b",
            "16018224e14f422eb5971e853ec4be52",
            "04b9f6b74e374e9aa6eb3702ce32e664",
            "3a9ab6c0166147ffab844878950ed534",
            "695c76e841a04946995df73c379b7ec1",
            "35797b236f464f948e908d0ff9e1d982",
            "a84851febb344c23a4dd27f3da2459ea",
            "4356b2f06a4549eb835e289859ba6bc2",
            "2958c1339921404d9d3954e00f8bdd1e",
            "f0c370c1134945e289e3c7442366bcea",
            "5afb0ef54197435b8dcc1562ce05df39",
            "9c19e2a9b65545c9a1381336e46b1b7b",
            "7915ba3cddc641f7bf879cec953a70f3",
            "f3e37b608eac4ac2aa5bfce966989d4b",
            "0ad38cc2a4ca413baeac4f5940b21134",
            "0ee56d75cf044622a20535e0da83b2b0",
            "55fa2fc28bd74b35ae0137b348e423f9",
            "46c7959f6119451a8ff16291fc798e16",
            "82431ccb673b48a8a64e2036372c0fba",
            "a54f1f2b02884f5fa7656e93c4ac277c",
            "192c710940694e82afdc5f5f1f503b79",
            "af7f8324de9440ada1d38bdd8a42f598",
            "8ed11be16d0d40809eec7ecd88614f80",
            "01b93ace5f014c1dab5af75e6d843368",
            "195a4f864dd9418cbdb8cb740df440f2",
            "344ed354bc59401b8732b561d37051cd",
            "c0b488be1bc7478a82c1c51a277653b5",
            "abb6e32d74d943e6b69517254ffa1011",
            "57cacca5079248929d2e865ea595c425",
            "5ee80c0587c64474bd77c3de7db7c95e",
            "6845709c85d44c9a82af56f9d8c96ef5",
            "8895353f4f37445e801abefe028965c4",
            "a83b6138b7f5427d8a19ca2e0eec12e8",
            "4780b60464e341d39da7b03ab9208c68",
            "7d34e2043124438b898cff9ab8cc0dd3",
            "07ed4268db954331b9fb3c06d722127a",
            "8d5358eec77047eeae8c60cf01e6d200",
            "29c99cb95f2543fd8d2c96d175ebf172",
            "0f319e101e5f41e5a015cdfaf71767e8",
            "3603a0392a734f2587bb9ecec7289036",
            "3b3926844f5946109661a1d433467b5b",
            "f2ff237b1f3b4d27beee9f7cf8f8e440",
            "1ae5718394d34c5db9a818804886d955",
            "06d493ce732547cea35f036fc4b1cc52",
            "1e5cf2ed134d4738b84434f73df431e0",
            "54fdcb98345341dbb85ba6a1f81345a3",
            "a5a57ef430a44a03962fa8c77db338b1",
            "32fe6cad56684b8394af5d1e81a3e571",
            "b62e088b576a420f9d810dd798a87954",
            "384ce794c38445c6ae1e0bdb46772b00",
            "6a133b19083b4d4ea2a786909e5ad407",
            "75c69e5db7f44cc28efdc586a65a0744",
            "333e9dbb30ff47a1867c13da022d43e4",
            "a5ac227003314c5c8f1e7f01f50a5eb8",
            "42a91a90151b4da5b76121a1b6fe0290",
            "18b2b9cd3cdb48358e273427fd4c1d0f",
            "01ae1a2ab3134d6a838a7d0352ce65d3",
            "5a46434f78264f38ab555c6ed444f049",
            "6549ea0fb5a04221892b8dc52b2b7262"
          ]
        },
        "id": "xVgizjsbJUB2",
        "outputId": "fbea2658-5584-48ea-e7b3-60e5e38afe43"
      },
      "outputs": [
        {
          "name": "stderr",
          "output_type": "stream",
          "text": [
            "/usr/local/lib/python3.11/dist-packages/huggingface_hub/utils/_auth.py:94: UserWarning:\n",
            "\n",
            "\n",
            "The secret `HF_TOKEN` does not exist in your Colab secrets.\n",
            "To authenticate with the Hugging Face Hub, create a token in your settings tab (https://huggingface.co/settings/tokens), set it as secret in your Google Colab and restart your session.\n",
            "You will be able to reuse this secret in all of your notebooks.\n",
            "Please note that authentication is recommended but still optional to access public models or datasets.\n",
            "\n"
          ]
        },
        {
          "data": {
            "application/vnd.jupyter.widget-view+json": {
              "model_id": "92ef72819bfe4e1fa0f1418881458550",
              "version_major": 2,
              "version_minor": 0
            },
            "text/plain": [
              "config.json: 0.00B [00:00, ?B/s]"
            ]
          },
          "metadata": {},
          "output_type": "display_data"
        },
        {
          "data": {
            "application/vnd.jupyter.widget-view+json": {
              "model_id": "b2fb0001d4684be881b303284d4a6e9e",
              "version_major": 2,
              "version_minor": 0
            },
            "text/plain": [
              "model.safetensors:   0%|          | 0.00/599M [00:00<?, ?B/s]"
            ]
          },
          "metadata": {},
          "output_type": "display_data"
        },
        {
          "data": {
            "application/vnd.jupyter.widget-view+json": {
              "model_id": "40741620f4e94e56a49008f892866fb9",
              "version_major": 2,
              "version_minor": 0
            },
            "text/plain": [
              "tokenizer_config.json: 0.00B [00:00, ?B/s]"
            ]
          },
          "metadata": {},
          "output_type": "display_data"
        },
        {
          "data": {
            "application/vnd.jupyter.widget-view+json": {
              "model_id": "c48cce7299684c1581fe3f08c9823e2a",
              "version_major": 2,
              "version_minor": 0
            },
            "text/plain": [
              "tokenizer.json: 0.00B [00:00, ?B/s]"
            ]
          },
          "metadata": {},
          "output_type": "display_data"
        },
        {
          "data": {
            "application/vnd.jupyter.widget-view+json": {
              "model_id": "39ad502aa819450d8370782c611dfa3b",
              "version_major": 2,
              "version_minor": 0
            },
            "text/plain": [
              "special_tokens_map.json:   0%|          | 0.00/694 [00:00<?, ?B/s]"
            ]
          },
          "metadata": {},
          "output_type": "display_data"
        },
        {
          "name": "stderr",
          "output_type": "stream",
          "text": [
            "  0%|          | 0/2686 [00:00<?, ?it/s]W0401 17:50:48.192000 4646 torch/_inductor/utils.py:1137] [4/0] Not enough SMs to use max_autotune_gemm mode\n",
            "100%|██████████| 2686/2686 [04:13<00:00, 10.58it/s]\n"
          ]
        },
        {
          "data": {
            "application/vnd.jupyter.widget-view+json": {
              "model_id": "695c76e841a04946995df73c379b7ec1",
              "version_major": 2,
              "version_minor": 0
            },
            "text/plain": [
              "Downloading builder script: 0.00B [00:00, ?B/s]"
            ]
          },
          "metadata": {},
          "output_type": "display_data"
        },
        {
          "data": {
            "application/vnd.jupyter.widget-view+json": {
              "model_id": "0ee56d75cf044622a20535e0da83b2b0",
              "version_major": 2,
              "version_minor": 0
            },
            "text/plain": [
              "Downloading builder script: 0.00B [00:00, ?B/s]"
            ]
          },
          "metadata": {},
          "output_type": "display_data"
        },
        {
          "data": {
            "application/vnd.jupyter.widget-view+json": {
              "model_id": "c0b488be1bc7478a82c1c51a277653b5",
              "version_major": 2,
              "version_minor": 0
            },
            "text/plain": [
              "Downloading builder script: 0.00B [00:00, ?B/s]"
            ]
          },
          "metadata": {},
          "output_type": "display_data"
        },
        {
          "data": {
            "application/vnd.jupyter.widget-view+json": {
              "model_id": "29c99cb95f2543fd8d2c96d175ebf172",
              "version_major": 2,
              "version_minor": 0
            },
            "text/plain": [
              "Downloading builder script: 0.00B [00:00, ?B/s]"
            ]
          },
          "metadata": {},
          "output_type": "display_data"
        },
        {
          "data": {
            "application/vnd.jupyter.widget-view+json": {
              "model_id": "b62e088b576a420f9d810dd798a87954",
              "version_major": 2,
              "version_minor": 0
            },
            "text/plain": [
              "Downloading builder script: 0.00B [00:00, ?B/s]"
            ]
          },
          "metadata": {},
          "output_type": "display_data"
        }
      ],
      "source": [
        "peft_model_id = \"fine-tuned-lora/peft-modernbert-base/checkpoint-53712\"\n",
        "\n",
        "inference_model, config = get_lora_model_for_seq_class(peft_model_id, num_labels=params['num_labels'],\n",
        "                                          label2id=params['label2id'], id2label=params['id2label'])\n",
        "\n",
        "model_name = config.base_model_name_or_path\n",
        "test_dataloader = inference_dataset(model_name, max_length=params['max_length'],\n",
        "                                            text=X_test, labels=y_test)\n",
        "\n",
        "mbertpeft_result, mbert_pred = predict(inference_model, test_dataloader, model_name, device=device)"
      ]
    },
    {
      "cell_type": "code",
      "execution_count": null,
      "id": "5gy2ZhKK1iP9",
      "metadata": {
        "colab": {
          "base_uri": "https://localhost:8080/",
          "height": 89
        },
        "id": "5gy2ZhKK1iP9",
        "outputId": "bc089205-731d-4d48-81f5-cc80e8989a08"
      },
      "outputs": [
        {
          "data": {
            "application/vnd.google.colaboratory.intrinsic+json": {
              "summary": "{\n  \"name\": \"mbertpeft_result\",\n  \"rows\": 1,\n  \"fields\": [\n    {\n      \"column\": \"model_name\",\n      \"properties\": {\n        \"dtype\": \"string\",\n        \"num_unique_values\": 1,\n        \"samples\": [\n          \"answerdotai/ModernBERT-base\"\n        ],\n        \"semantic_type\": \"\",\n        \"description\": \"\"\n      }\n    },\n    {\n      \"column\": \"accuracy\",\n      \"properties\": {\n        \"dtype\": \"number\",\n        \"std\": null,\n        \"min\": 0.9471724458924832,\n        \"max\": 0.9471724458924832,\n        \"num_unique_values\": 1,\n        \"samples\": [\n          0.9471724458924832\n        ],\n        \"semantic_type\": \"\",\n        \"description\": \"\"\n      }\n    },\n    {\n      \"column\": \"precision\",\n      \"properties\": {\n        \"dtype\": \"number\",\n        \"std\": null,\n        \"min\": 0.9516237109664403,\n        \"max\": 0.9516237109664403,\n        \"num_unique_values\": 1,\n        \"samples\": [\n          0.9516237109664403\n        ],\n        \"semantic_type\": \"\",\n        \"description\": \"\"\n      }\n    },\n    {\n      \"column\": \"recall\",\n      \"properties\": {\n        \"dtype\": \"number\",\n        \"std\": null,\n        \"min\": 0.9471724458924832,\n        \"max\": 0.9471724458924832,\n        \"num_unique_values\": 1,\n        \"samples\": [\n          0.9471724458924832\n        ],\n        \"semantic_type\": \"\",\n        \"description\": \"\"\n      }\n    },\n    {\n      \"column\": \"f1\",\n      \"properties\": {\n        \"dtype\": \"number\",\n        \"std\": null,\n        \"min\": 0.9478612259363235,\n        \"max\": 0.9478612259363235,\n        \"num_unique_values\": 1,\n        \"samples\": [\n          0.9478612259363235\n        ],\n        \"semantic_type\": \"\",\n        \"description\": \"\"\n      }\n    },\n    {\n      \"column\": \"matthews_correlation\",\n      \"properties\": {\n        \"dtype\": \"number\",\n        \"std\": null,\n        \"min\": 0.9357873950353716,\n        \"max\": 0.9357873950353716,\n        \"num_unique_values\": 1,\n        \"samples\": [\n          0.9357873950353716\n        ],\n        \"semantic_type\": \"\",\n        \"description\": \"\"\n      }\n    }\n  ]\n}",
              "type": "dataframe",
              "variable_name": "mbertpeft_result"
            },
            "text/html": [
              "\n",
              "  <div id=\"df-c3b41a8c-4575-4b08-8fa7-5fa163cd2078\" class=\"colab-df-container\">\n",
              "    <div>\n",
              "<style scoped>\n",
              "    .dataframe tbody tr th:only-of-type {\n",
              "        vertical-align: middle;\n",
              "    }\n",
              "\n",
              "    .dataframe tbody tr th {\n",
              "        vertical-align: top;\n",
              "    }\n",
              "\n",
              "    .dataframe thead th {\n",
              "        text-align: right;\n",
              "    }\n",
              "</style>\n",
              "<table border=\"1\" class=\"dataframe\">\n",
              "  <thead>\n",
              "    <tr style=\"text-align: right;\">\n",
              "      <th></th>\n",
              "      <th>model_name</th>\n",
              "      <th>accuracy</th>\n",
              "      <th>precision</th>\n",
              "      <th>recall</th>\n",
              "      <th>f1</th>\n",
              "      <th>matthews_correlation</th>\n",
              "    </tr>\n",
              "  </thead>\n",
              "  <tbody>\n",
              "    <tr>\n",
              "      <th>0</th>\n",
              "      <td>answerdotai/ModernBERT-base</td>\n",
              "      <td>0.947172</td>\n",
              "      <td>0.951624</td>\n",
              "      <td>0.947172</td>\n",
              "      <td>0.947861</td>\n",
              "      <td>0.935787</td>\n",
              "    </tr>\n",
              "  </tbody>\n",
              "</table>\n",
              "</div>\n",
              "    <div class=\"colab-df-buttons\">\n",
              "\n",
              "  <div class=\"colab-df-container\">\n",
              "    <button class=\"colab-df-convert\" onclick=\"convertToInteractive('df-c3b41a8c-4575-4b08-8fa7-5fa163cd2078')\"\n",
              "            title=\"Convert this dataframe to an interactive table.\"\n",
              "            style=\"display:none;\">\n",
              "\n",
              "  <svg xmlns=\"http://www.w3.org/2000/svg\" height=\"24px\" viewBox=\"0 -960 960 960\">\n",
              "    <path d=\"M120-120v-720h720v720H120Zm60-500h600v-160H180v160Zm220 220h160v-160H400v160Zm0 220h160v-160H400v160ZM180-400h160v-160H180v160Zm440 0h160v-160H620v160ZM180-180h160v-160H180v160Zm440 0h160v-160H620v160Z\"/>\n",
              "  </svg>\n",
              "    </button>\n",
              "\n",
              "  <style>\n",
              "    .colab-df-container {\n",
              "      display:flex;\n",
              "      gap: 12px;\n",
              "    }\n",
              "\n",
              "    .colab-df-convert {\n",
              "      background-color: #E8F0FE;\n",
              "      border: none;\n",
              "      border-radius: 50%;\n",
              "      cursor: pointer;\n",
              "      display: none;\n",
              "      fill: #1967D2;\n",
              "      height: 32px;\n",
              "      padding: 0 0 0 0;\n",
              "      width: 32px;\n",
              "    }\n",
              "\n",
              "    .colab-df-convert:hover {\n",
              "      background-color: #E2EBFA;\n",
              "      box-shadow: 0px 1px 2px rgba(60, 64, 67, 0.3), 0px 1px 3px 1px rgba(60, 64, 67, 0.15);\n",
              "      fill: #174EA6;\n",
              "    }\n",
              "\n",
              "    .colab-df-buttons div {\n",
              "      margin-bottom: 4px;\n",
              "    }\n",
              "\n",
              "    [theme=dark] .colab-df-convert {\n",
              "      background-color: #3B4455;\n",
              "      fill: #D2E3FC;\n",
              "    }\n",
              "\n",
              "    [theme=dark] .colab-df-convert:hover {\n",
              "      background-color: #434B5C;\n",
              "      box-shadow: 0px 1px 3px 1px rgba(0, 0, 0, 0.15);\n",
              "      filter: drop-shadow(0px 1px 2px rgba(0, 0, 0, 0.3));\n",
              "      fill: #FFFFFF;\n",
              "    }\n",
              "  </style>\n",
              "\n",
              "    <script>\n",
              "      const buttonEl =\n",
              "        document.querySelector('#df-c3b41a8c-4575-4b08-8fa7-5fa163cd2078 button.colab-df-convert');\n",
              "      buttonEl.style.display =\n",
              "        google.colab.kernel.accessAllowed ? 'block' : 'none';\n",
              "\n",
              "      async function convertToInteractive(key) {\n",
              "        const element = document.querySelector('#df-c3b41a8c-4575-4b08-8fa7-5fa163cd2078');\n",
              "        const dataTable =\n",
              "          await google.colab.kernel.invokeFunction('convertToInteractive',\n",
              "                                                    [key], {});\n",
              "        if (!dataTable) return;\n",
              "\n",
              "        const docLinkHtml = 'Like what you see? Visit the ' +\n",
              "          '<a target=\"_blank\" href=https://colab.research.google.com/notebooks/data_table.ipynb>data table notebook</a>'\n",
              "          + ' to learn more about interactive tables.';\n",
              "        element.innerHTML = '';\n",
              "        dataTable['output_type'] = 'display_data';\n",
              "        await google.colab.output.renderOutput(dataTable, element);\n",
              "        const docLink = document.createElement('div');\n",
              "        docLink.innerHTML = docLinkHtml;\n",
              "        element.appendChild(docLink);\n",
              "      }\n",
              "    </script>\n",
              "  </div>\n",
              "\n",
              "\n",
              "  <div id=\"id_07e2355a-1e84-4682-87aa-30fb0884a59f\">\n",
              "    <style>\n",
              "      .colab-df-generate {\n",
              "        background-color: #E8F0FE;\n",
              "        border: none;\n",
              "        border-radius: 50%;\n",
              "        cursor: pointer;\n",
              "        display: none;\n",
              "        fill: #1967D2;\n",
              "        height: 32px;\n",
              "        padding: 0 0 0 0;\n",
              "        width: 32px;\n",
              "      }\n",
              "\n",
              "      .colab-df-generate:hover {\n",
              "        background-color: #E2EBFA;\n",
              "        box-shadow: 0px 1px 2px rgba(60, 64, 67, 0.3), 0px 1px 3px 1px rgba(60, 64, 67, 0.15);\n",
              "        fill: #174EA6;\n",
              "      }\n",
              "\n",
              "      [theme=dark] .colab-df-generate {\n",
              "        background-color: #3B4455;\n",
              "        fill: #D2E3FC;\n",
              "      }\n",
              "\n",
              "      [theme=dark] .colab-df-generate:hover {\n",
              "        background-color: #434B5C;\n",
              "        box-shadow: 0px 1px 3px 1px rgba(0, 0, 0, 0.15);\n",
              "        filter: drop-shadow(0px 1px 2px rgba(0, 0, 0, 0.3));\n",
              "        fill: #FFFFFF;\n",
              "      }\n",
              "    </style>\n",
              "    <button class=\"colab-df-generate\" onclick=\"generateWithVariable('mbertpeft_result')\"\n",
              "            title=\"Generate code using this dataframe.\"\n",
              "            style=\"display:none;\">\n",
              "\n",
              "  <svg xmlns=\"http://www.w3.org/2000/svg\" height=\"24px\"viewBox=\"0 0 24 24\"\n",
              "       width=\"24px\">\n",
              "    <path d=\"M7,19H8.4L18.45,9,17,7.55,7,17.6ZM5,21V16.75L18.45,3.32a2,2,0,0,1,2.83,0l1.4,1.43a1.91,1.91,0,0,1,.58,1.4,1.91,1.91,0,0,1-.58,1.4L9.25,21ZM18.45,9,17,7.55Zm-12,3A5.31,5.31,0,0,0,4.9,8.1,5.31,5.31,0,0,0,1,6.5,5.31,5.31,0,0,0,4.9,4.9,5.31,5.31,0,0,0,6.5,1,5.31,5.31,0,0,0,8.1,4.9,5.31,5.31,0,0,0,12,6.5,5.46,5.46,0,0,0,6.5,12Z\"/>\n",
              "  </svg>\n",
              "    </button>\n",
              "    <script>\n",
              "      (() => {\n",
              "      const buttonEl =\n",
              "        document.querySelector('#id_07e2355a-1e84-4682-87aa-30fb0884a59f button.colab-df-generate');\n",
              "      buttonEl.style.display =\n",
              "        google.colab.kernel.accessAllowed ? 'block' : 'none';\n",
              "\n",
              "      buttonEl.onclick = () => {\n",
              "        google.colab.notebook.generateWithVariable('mbertpeft_result');\n",
              "      }\n",
              "      })();\n",
              "    </script>\n",
              "  </div>\n",
              "\n",
              "    </div>\n",
              "  </div>\n"
            ],
            "text/plain": [
              "                    model_name  accuracy  precision    recall        f1  \\\n",
              "0  answerdotai/ModernBERT-base  0.947172   0.951624  0.947172  0.947861   \n",
              "\n",
              "   matthews_correlation  \n",
              "0              0.935787  "
            ]
          },
          "execution_count": 28,
          "metadata": {},
          "output_type": "execute_result"
        }
      ],
      "source": [
        "mbertpeft_result"
      ]
    },
    {
      "cell_type": "code",
      "execution_count": null,
      "id": "aqzvLrjxhAeq",
      "metadata": {
        "id": "aqzvLrjxhAeq"
      },
      "outputs": [],
      "source": [
        "del test_loader\n",
        "torch.cuda.empty_cache()"
      ]
    },
    {
      "cell_type": "markdown",
      "id": "7822c02ee31e7dc6",
      "metadata": {
        "id": "7822c02ee31e7dc6"
      },
      "source": [
        "## 7. Statistical Comparison"
      ]
    },
    {
      "cell_type": "code",
      "execution_count": null,
      "id": "66b1bf54ddb90c49",
      "metadata": {
        "id": "66b1bf54ddb90c49"
      },
      "outputs": [],
      "source": [
        "compare_rob_opt = stats.kruskal(r_pred, opt_pred)\n",
        "compare_rob_mbert = stats.kruskal(r_pred, mbert_pred)\n",
        "compare_opt_mbert = stats.kruskal(opt_pred, mbert_pred)"
      ]
    },
    {
      "cell_type": "code",
      "execution_count": null,
      "id": "Ia2RIYDdn8JS",
      "metadata": {
        "colab": {
          "base_uri": "https://localhost:8080/"
        },
        "id": "Ia2RIYDdn8JS",
        "outputId": "3b5cb297-689a-41c5-b5e7-a24e95750aee"
      },
      "outputs": [
        {
          "name": "stdout",
          "output_type": "stream",
          "text": [
            "RoBERTa-LoRA vs OPT-350m-LoRA, pvalue: 0.1539\n",
            "---------------------------------------------------\n",
            "RoBERTa-LoRA vs ModernBERT-LoRA, pvalue: 0.8775\n",
            "---------------------------------------------------\n",
            "ModernBERT-LoRA vs OPT-350m-LoRA, pvalue: 0.2053\n"
          ]
        }
      ],
      "source": [
        "print(f'RoBERTa-LoRA vs OPT-350m-LoRA, pvalue: {float(compare_rob_opt.pvalue):.4f}'),\n",
        "print('-----------------' * 3)\n",
        "print(f'RoBERTa-LoRA vs ModernBERT-LoRA, pvalue: {float(compare_rob_mbert.pvalue):.4f}')\n",
        "print('-----------------' * 3)\n",
        "print(f'ModernBERT-LoRA vs OPT-350m-LoRA, pvalue: {float(compare_opt_mbert.pvalue):.4f}')"
      ]
    },
    {
      "cell_type": "markdown",
      "id": "WacCU4PPn7Mu",
      "metadata": {
        "id": "WacCU4PPn7Mu"
      },
      "source": [
        "- We fail to reject the $H_0$ that the performance of the models is significantly different.\n",
        "- No further post-hoc test is required."
      ]
    },
    {
      "cell_type": "markdown",
      "id": "b1bbd0c27cfd1406",
      "metadata": {
        "id": "b1bbd0c27cfd1406"
      },
      "source": [
        "## 8. Sample random prediction"
      ]
    },
    {
      "cell_type": "code",
      "execution_count": null,
      "id": "d39edac421329125",
      "metadata": {
        "colab": {
          "base_uri": "https://localhost:8080/"
        },
        "id": "d39edac421329125",
        "outputId": "c4fffed4-dead-4ebb-be85-02b5c62a70d6"
      },
      "outputs": [
        {
          "name": "stdout",
          "output_type": "stream",
          "text": [
            "Tweet: i feel most fearful and doubtful\n",
            "Emotion: fear\n",
            "\n",
            "Opt-350 predicted: fear\n",
            "ModernBERT-base predicted: fear\n",
            "RoBERTa-base predicted: fear\n",
            "------------------------------------------------------------\n",
            "Tweet: i feel no progression in our relationship and i am not sure we are even aiming towards the same thing\n",
            "Emotion: joy\n",
            "\n",
            "Opt-350 predicted: joy\n",
            "ModernBERT-base predicted: joy\n",
            "RoBERTa-base predicted: joy\n",
            "------------------------------------------------------------\n",
            "Tweet: i feel like im more humorous than i used to be\n",
            "Emotion: joy\n",
            "\n",
            "Opt-350 predicted: joy\n",
            "ModernBERT-base predicted: joy\n",
            "RoBERTa-base predicted: joy\n",
            "------------------------------------------------------------\n",
            "Tweet: i realize that being expelled from college may be a lesser punishment than five years in jail but if you feel you are innocent it might be worth the rolling of the dice\n",
            "Emotion: joy\n",
            "\n",
            "Opt-350 predicted: joy\n",
            "ModernBERT-base predicted: joy\n",
            "RoBERTa-base predicted: joy\n",
            "------------------------------------------------------------\n",
            "Tweet: i have come to understand that some part of my purpose is to help others lost in grief those inexplicably left behind those now feeling as pain the love that should have died along with their beloved but most cruelly did not\n",
            "Emotion: love\n",
            "\n",
            "Opt-350 predicted: love\n",
            "ModernBERT-base predicted: love\n",
            "RoBERTa-base predicted: love\n",
            "------------------------------------------------------------\n"
          ]
        }
      ],
      "source": [
        "random_sample = np.random.randint(0, len(X_test), 5)\n",
        "\n",
        "for i in random_sample:\n",
        "\n",
        "    print(f\"Tweet: {X_test[i][0]}\")\n",
        "    print(f\"Emotion: {label_to_emotion[y_test[i]]}\")\n",
        "    print(\"\")\n",
        "    print(f\"Opt-350 predicted: {label_to_emotion[opt_pred[i]]}\")\n",
        "    print(f\"ModernBERT-base predicted: {label_to_emotion[mbert_pred[i]]}\")\n",
        "    print(f\"RoBERTa-base predicted: {label_to_emotion[r_pred[i]]}\")\n",
        "    print(\"--------------------\" * 3)\n"
      ]
    },
    {
      "cell_type": "code",
      "execution_count": null,
      "id": "f33953b45caf4c95",
      "metadata": {
        "colab": {
          "base_uri": "https://localhost:8080/"
        },
        "id": "f33953b45caf4c95",
        "outputId": "6520acac-8323-4b6a-9d91-aa15a67bf342"
      },
      "outputs": [
        {
          "data": {
            "text/plain": [
              "5902"
            ]
          },
          "execution_count": 83,
          "metadata": {},
          "output_type": "execute_result"
        }
      ],
      "source": [
        "gc.collect()"
      ]
    }
  ],
  "metadata": {
    "accelerator": "GPU",
    "colab": {
      "gpuType": "T4",
      "machine_shape": "hm",
      "provenance": []
    },
    "kernelspec": {
      "display_name": "Python 3 (ipykernel)",
      "language": "python",
      "name": "python3"
    },
    "language_info": {
      "codemirror_mode": {
        "name": "ipython",
        "version": 3
      },
      "file_extension": ".py",
      "mimetype": "text/x-python",
      "name": "python",
      "nbconvert_exporter": "python",
      "pygments_lexer": "ipython3",
      "version": "3.12.6"
    }
  },
  "nbformat": 4,
  "nbformat_minor": 5
}